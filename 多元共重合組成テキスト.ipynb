{
 "cells": [
  {
   "cell_type": "markdown",
   "id": "18697be3-468f-48e4-a426-66c456805466",
   "metadata": {},
   "source": [
    "## マルコフ連鎖モンテカルロ法による共重合組成の数値的解法\n"
   ]
  },
  {
   "cell_type": "markdown",
   "id": "ecebbc75-8391-4750-bb31-5de7916a478d",
   "metadata": {},
   "source": [
    "\n",
    "[目次]  \n",
    "・概要  \n",
    "・共重合組成式  \n",
    "・Alfrey-PriceのQ,e-Scheme  \n",
    "・モンテカルロ法  \n",
    "・マルコフ連鎖  \n",
    "・マルコフ連鎖モンテカルロ法  \n",
    "・多元共重合組成の数値的解法"
   ]
  },
  {
   "cell_type": "markdown",
   "id": "b6740a33-ba76-4e6a-a518-599b12f1f049",
   "metadata": {},
   "source": [
    "概要\r\n",
    "\r\n",
    "高分子設計では、モノマーの投入比率が最終製品の物性に大きな影響を与えます。この投入比率は、連鎖重合による材料開発において重要な要素です。物性への影響は、モノマーの配合比によって線形に加わる場合もあればそうでない場合もあります。この違いの背後には、高分子の一次配列（シーケンス）の影響が考えられます。モノマーがポリマー鎖にどのように組み込まれるか、つまり均一かつランダムに導入されるかは、非常に重要な問いです。以下に具体例を示します。\r\n",
    "\r\n",
    "例えば、スチレン（St）とメチルメタクリレート（MMA）を50/50の比率で混合し、溶液系で攪拌しながらラジカル重合を行った場合を考えます。生成するポリマー鎖の配列は、NMRスペクトルによる連子解析を通じて以下のように推定されるかもしれません：\r\n",
    "\r\n",
    "MMA-MMA-St-MMA-St-St-St-MMA-MMA-St-St-MMA-St-St-MMA-St-MMA-St\r\n",
    "\r\n",
    "この配列からは、StとMMAが交互になることもあれば、同種のモノマーが連続して共重合することも観察されます。これはランダム共重合と呼ばれます。一方、スチレン（St）と無水マレイン酸（MAH）を組み合わせた共重合では、以下のようにモノマーが交互に付加することが知られています：\r\n",
    "\r\n",
    "St-MAH-St-MAH-St-MAH-St-MAH-St-MAH-St-MAH-St-MAH-St-MAH-St-MAH\r\n",
    "\r\n",
    "これは交互共重合体と呼ばれ、StラジカルがMAHモノマーに、MAHラジカルがStモノマーに選択的に付加することによるものです。この選択性は、モノマーとラジカル種の反応性（反応速度）が組み合わせによって異なるために生じます。"
   ]
  },
  {
   "cell_type": "markdown",
   "id": "257bf623-75f2-4149-bcc8-d98edfd4f2fb",
   "metadata": {},
   "source": [
    "### モノマーの反応性比と共重合様式の決定\n",
    "\n",
    "スチレン（St）/メチルメタクリレート（MMA）系とスチレン（St）/無水マレイン酸（MAH）系の一次構造の違いは、モノマーの反応性比によって説明されます。反応性比とは、2種類のモノマーAとBを共重合させた際、AからAへのホモ付加反応速度 kAAとAからBへのヘテロ付加反応速度kABの比率を示し、\n",
    "$$r_{AB} = \\frac{k_{AA}}{ k_{AB}}$$\n",
    "\n",
    " で表されます。この比率は、共重合する際のモノマーの振る舞いや生成するポリマーの構造を予測するのに役立ちます。反応性比の実測方法として、Fineman-Loss法が有名ですが、ここでは、反応性比を実測する方法ではなく、パラメータによる推定方法としてよく知られているAlfrey-PriceのQe-Schemeについて説明します。Qe-Schemeとは、モノマーの二重結合に対し、Q値とe値の2つの因子を仮定し、それらからモデル式に当てはめて反応速度定数を予測する方法です。Q値は二重結合の共鳴安定性に関する因子、e値は二重結合の電子吸引性に関する因子となります。$M_A$ラジカルと$M_B$モノマーの反応速度定数$k_{AB}$は次式で表されます。  \n",
    "\n",
    "$$M_A*\\ +\\ M_B\\ ->\\ M_A-M_B*$$\n",
    "$$k_{AB}=P_{A}Q_{B}exp(-e_{A}e_{B})$$\n",
    "\n",
    "反応速度はAラジカルの活性が高く、Bラジカルが安定であるほど早くなります。そして、付加するモノマー同士は電子供与性と電子吸引性の組み合わせ(ドナーとアクセプターの関係)であるほど早いことを意味します。\n",
    "\n",
    "### 反応速度から反応確率を導く\n",
    "Qe-Schemeにより任意のモノマーの反応速度が表現できることが分かりました。したがって反応性比もQe-Schemeにより表現できます。今回は反応性比と似た考え方で、反応確率を定義した。反応確率は、活性種が起こしうる全ての反応に対する、特定の反応が起こる確率として考える。例えばAラジカルからBモノマーへの付加反応確率$P_{AB}$について考えると、\n",
    "$$M_A*\\ +\\ M_A\\ ->\\ M_A-M_A*\\ \\ \\ \\ \\ \\ (1)$$\n",
    "$$M_A*\\ +\\ M_B\\ ->\\ M_A-M_B*\\ \\ \\ \\ \\ \\ (2)$$  \n",
    "\n",
    "の二つの反応が起こりえます。ここで、反応(1)の反応速度が反応(2)の反応速度の2倍だとすれば,(1)が起きる確率は66%,(2)が起きる確率は33%であると考えられます。\n",
    "つまり$M_A*$ラジカルが起こしうる付加反応速度全体に対する$M_B$モノマーへの付加反応速度$k_{AB}$の分率によって表現できる。 \n",
    "すなわち、\n",
    "\n",
    "$$P_{AB}=\\frac{R_{AB}}{R_{AB}+R_{AA}}$$  \n",
    "$$=\\frac{k_{AB}[M_{A}*][M_{B}]}{k_{AB}[M_{A}*][M_{B}]+k_{AA}[M_{A}*][M_{A}]} $$  \n",
    "$$=\\frac{k_{AB}[M_{B}]}{k_{AB}[M_{B}] + k_{AA}[M_{A}]} $$  \n",
    "\n",
    "ここで、Alflay-priceの式を用いて式を整理すると  \n",
    "\n",
    "$$=\\frac{[M_{B}]P_{B}Q_{A}exp(-e_{A}e_{A}) }{[M_{B}]P_{A}Q_{B}exp(-e_{A}e_{B})+[M_{A}]P_{A}Q_{A}exp(-e_{A}e_{A})}$$   \n",
    "$$=\\frac{[M_{B}]Q_{B}exp(-e_{A}e_{B}) }{[M_{B}]Q_{B}exp(-e_{B}e_{A})+[M_{A}]Q_{A}exp(-e_{A}e_{A})}$$  \n",
    "\n",
    "### 多元共重合への拡張  \n",
    "上記の例は二種類のモノマー間の関係です。つまりに二元共重合における反応を考えます。一方で、実際には多数のモノマーを組み合わせて重合を行う場合が多く、そのような重合系のモノマー消費挙動を表現するには、上記の反応性比の概念を拡張して利用する必要があります。今、N種のモノマー$M_1$,$M_2$...$M_A$...$M_B$...$M_n$を共重合させた系における、ラジカル$M_A*$からモノマー$M_B$へのラジカル付加反応  \n",
    "\n",
    "$$M_A*\\ +\\ M_B\\ ->\\ M_A-M_B*$$  \n",
    "\n",
    "の反応確率を$P_{AB}$とすると、\n",
    "\n",
    "$$\n",
    "P_{AB}= \\frac{[M_{B}]Q_{B}exp(-e_{A}e_{B}) }{\\sum_{i=1}^n [M_{i}]Q_{i}exp(-e_{A}e_{i})}\n",
    "$$\n",
    "\n",
    "によって、ラジカル種とモノマー種の組み合わせで反応確率が決定されます。\n",
    "ラジカル種により、付加するモノマー種の反応確率分布が決定されますが、反応後にはまたラジカル種が変わり、反応が起きる確率分布が変わります。\n",
    "\n"
   ]
  },
  {
   "cell_type": "markdown",
   "id": "a4798fb8-4684-4d25-91f0-65e432c959ef",
   "metadata": {},
   "source": [
    "高分子末端にモノマーが順次反応していき、末端の活性種が遷移する際の、遷移確率行列は、\n",
    "\n",
    "\\begin{equation}\n",
    "T = \\begin{bmatrix}\n",
    "P_{AA} & P_{AB} \\\\\n",
    "P_{BA} & P_{BB}\n",
    "\\end{bmatrix}\n",
    "\\end{equation}\n",
    "\n",
    "反応が起こる前の、事前濃度ベクトルを\n",
    "\n",
    "\\begin{equation}\n",
    "C(X) = \\begin{bmatrix}\n",
    "M_{A} & M_{B}\n",
    "\\end{bmatrix}\n",
    "\\end{equation}\n",
    "\n",
    "とする。乱数発生機により、一様乱数ベクトルRが生じたら\n",
    "$$\n",
    "R-T\n",
    "$$らわされる。n}"
   ]
  },
  {
   "cell_type": "markdown",
   "id": "c5f859ad-fffa-48fc-b013-bbeba7152b45",
   "metadata": {},
   "source": [
    "## モンテカルロ法\n",
    "モンテカルロ法は、一様乱数の生成による試行を繰り返すことで確率分布の数値解の導出を行う手法である。確率分布を解析的に得ることが困難な事象に対して強力なツールです。簡単に言えば、実際の現象に近い確率密度分布を持つ「ひずんださいころ」を何度も投げることで、統計的データを生成し、現象を再現する事です。重合における、反応確率の分布は、"
   ]
  },
  {
   "cell_type": "code",
   "execution_count": 119,
   "id": "223a7add-28c2-4fb4-bf16-f3e762c54bb0",
   "metadata": {},
   "outputs": [
    {
     "data": {
      "text/plain": [
       "array([[0.52996405, 0.47003595],\n",
       "       [0.53991488, 0.46008512]])"
      ]
     },
     "execution_count": 119,
     "metadata": {},
     "output_type": "execute_result"
    }
   ],
   "source": [
    "#モノマー1の濃度m,Q値,e値\n",
    "m1 = 0.5\n",
    "Q1 = 1.0\n",
    "e1 = -0.6\n",
    "\n",
    "#モノマー2の濃度m,Q値,e値\n",
    "m2 = 0.5\n",
    "Q2 = 1.0\n",
    "e2 = -0.8\n",
    "\n",
    "#事前濃度ベクトル\n",
    "M= np.array([m1,m2])\n",
    "Q = [m1,m2]\n",
    "e = [e1,e2]\n",
    "\n",
    "\n",
    "#反応確率を導出する関数\n",
    "\n",
    "def react_prob(M,Q,e):\n",
    "\n",
    "    #iはラジカル種のindex\n",
    "    col=[]\n",
    "    for i in range(len(M)): \n",
    "        #jは付加するモノマー種のindex\n",
    "        row=[]\n",
    "        for j in range(len(M)):\n",
    "            bunsi=  M[j]*Q[j]*np.exp(-e[i]*e[j])\n",
    "            bunbo_sum=0\n",
    "            \n",
    "            #kは合計する為だけのもの\n",
    "            for k in range(len(M)):   \n",
    "                bunbo_sum += M[k]*Q[k]*np.exp(-e[i]*e[k])\n",
    "                \n",
    "            P_ij = bunsi/bunbo_sum\n",
    "            \n",
    "            row.append(P_ij)\n",
    "            \n",
    "        col.append(row)\n",
    "        \n",
    "    return np.array(col)\n",
    "                \n",
    "        \n",
    "\n",
    "#遷移確率行列\n",
    "react_prob(M,Q,e)"
   ]
  },
  {
   "cell_type": "code",
   "execution_count": 120,
   "id": "0dd36d47-c8d7-4657-8c98-ca14f2ad8c03",
   "metadata": {},
   "outputs": [],
   "source": [
    "def montecalro_dice(react_prob,monomer_conc):\n",
    "\n",
    "    #react_probを1行ごとに処理していく\n",
    "    for n,elem in enumerate(react_prob):\n",
    "        #0~1の一様乱数を生成\n",
    "        random_number=np.random.random()     \n",
    "        #列ごとの乱数の該非判定\n",
    "        #判定しきい値の初期化\n",
    "        threshold=0\n",
    "        for m,elem2 in enumerate(elem):\n",
    "            #しきい値の更新\n",
    "            threshold += elem2\n",
    "            if random_number <= threshold:\n",
    "                # 該当したら1カウント減らす。\n",
    "                monomer_conc[n][m] -= 1\n",
    "                break\n",
    "    return monomer_conc"
   ]
  },
  {
   "cell_type": "code",
   "execution_count": 121,
   "id": "965b77ab-e53e-49fa-a286-28e98d0be524",
   "metadata": {},
   "outputs": [],
   "source": [
    "#初期値\n",
    "T = react_prob(M,Q,e)\n",
    "C = np.ones(T.shape)*50\n",
    "conc_log = []\n",
    "for iteration in range(50):\n",
    "    montecalro_dice(T,C)\n",
    "    C = montecalro_dice(T,C)\n",
    "    conc_log.append(np.sum(C,axis=0))"
   ]
  },
  {
   "cell_type": "code",
   "execution_count": 118,
   "id": "fc358031-4729-447e-b22e-99bda7291dd7",
   "metadata": {},
   "outputs": [
    {
     "data": {
      "text/plain": [
       "[array([99., 97.]),\n",
       " array([96., 96.]),\n",
       " array([95., 93.]),\n",
       " array([92., 92.]),\n",
       " array([89., 91.]),\n",
       " array([88., 88.]),\n",
       " array([85., 87.]),\n",
       " array([82., 86.]),\n",
       " array([79., 85.]),\n",
       " array([77., 83.]),\n",
       " array([75., 81.]),\n",
       " array([73., 79.]),\n",
       " array([71., 77.]),\n",
       " array([69., 75.]),\n",
       " array([66., 74.]),\n",
       " array([64., 72.]),\n",
       " array([60., 72.]),\n",
       " array([57., 71.]),\n",
       " array([55., 69.]),\n",
       " array([52., 68.]),\n",
       " array([48., 68.]),\n",
       " array([46., 66.]),\n",
       " array([44., 64.]),\n",
       " array([42., 62.]),\n",
       " array([39., 61.]),\n",
       " array([37., 59.]),\n",
       " array([35., 57.]),\n",
       " array([32., 56.]),\n",
       " array([32., 52.]),\n",
       " array([30., 50.]),\n",
       " array([26., 50.]),\n",
       " array([24., 48.]),\n",
       " array([22., 46.]),\n",
       " array([20., 44.]),\n",
       " array([17., 43.]),\n",
       " array([16., 40.]),\n",
       " array([14., 38.]),\n",
       " array([12., 36.]),\n",
       " array([10., 34.]),\n",
       " array([ 7., 33.]),\n",
       " array([ 3., 33.]),\n",
       " array([ 0., 32.]),\n",
       " array([-3., 31.]),\n",
       " array([-5., 29.]),\n",
       " array([-6., 26.]),\n",
       " array([-8., 24.]),\n",
       " array([-11.,  23.]),\n",
       " array([-13.,  21.]),\n",
       " array([-17.,  21.]),\n",
       " array([-19.,  19.])]"
      ]
     },
     "execution_count": 118,
     "metadata": {},
     "output_type": "execute_result"
    }
   ],
   "source": [
    "conc_log"
   ]
  },
  {
   "cell_type": "markdown",
   "id": "4124380b-e097-4d71-92ed-9caeaf0e6d98",
   "metadata": {},
   "source": [
    "このとき、1~6のいずれの数字においても起こる確率分布は0.166です。さいころの場合には、\n",
    "事象がカテゴリ変数である為、不連続な値を取りますが、連続した値をとこともできるはずです。\n",
    "その場合には、binごとの確率分布をbinの幅で割った値を考える必要があり、この値が確率密度です。\n",
    "そして、事象変数に対する確率密度の分布が、確率密度分布となります。\n",
    "\n",
    "たとえば、平均0,標準偏差1のガウス分布は下記のようになります。\n",
    "ガウス分布の確率密度関数は以下の式で与えられます。\n",
    "\n",
    "$$\n",
    "f(x) = \\frac{1}{\\sqrt{2\\pi\\sigma^2}} \\exp\\left(-\\frac{(x - \\mu)^2}{2\\sigma^2}\\right)\n",
    "$$\n"
   ]
  },
  {
   "cell_type": "code",
   "execution_count": 2,
   "id": "2cb595aa-562d-4497-80b6-9b499ef75f31",
   "metadata": {},
   "outputs": [
    {
     "data": {
      "image/png": "[encoded data removed]",
      "text/plain": [
       "<Figure size 500x200 with 1 Axes>"
      ]
     },
     "metadata": {},
     "output_type": "display_data"
    }
   ],
   "source": [
    "from scipy.stats import norm\n",
    "import numpy as np\n",
    "import matplotlib.pyplot as plt\n",
    "\n",
    "# 平均と標準偏差を定義\n",
    "mu = 0  # 平均\n",
    "sigma = 1  # 標準偏差\n",
    "\n",
    "# ガウス分布（正規分布）のPDF（確率密度関数）をプロット\n",
    "x = np.linspace(-3*sigma + mu, 3*sigma + mu, 100)\n",
    "y = norm.pdf(x, mu, sigma)\n",
    "plt.figure(figsize=(5,2))\n",
    "plt.plot(x, y)\n",
    "plt.title('Gaussian Distribution (mu=0, sigma=1)')\n",
    "plt.xlabel('x')\n",
    "plt.ylabel('Probability Density')\n",
    "plt.grid(True)\n",
    "plt.show()"
   ]
  },
  {
   "cell_type": "markdown",
   "id": "b29fac92-3622-45e1-9bb8-1d712a99958c",
   "metadata": {},
   "source": [
    "この確率密度分布に従う統計データを疑似的に生成することが出来ます。\n",
    "確率変数xを、幅0.5のbinに分割して、各確率分布を算出してみます。\n"
   ]
  },
  {
   "cell_type": "code",
   "execution_count": 3,
   "id": "da2f293c-b233-4862-b56a-f2b028cdd097",
   "metadata": {},
   "outputs": [],
   "source": [
    "\n",
    "bin_width=0.5\n",
    "x_bins = np.arange(-10,10,bin_width)\n",
    "\n",
    "from scipy.integrate import quad\n",
    "\n",
    "# 平均と標準偏差を定義\n",
    "mu = 0  # 平均\n",
    "sigma = 1  # 標準偏差\n",
    "\n",
    "# 確率密度関数(ここではガウス関数)\n",
    "def gauss_function(x, mu=0, sigma=1):\n",
    "    f1 = norm.pdf(x, mu, sigma)\n",
    "    return f1\n",
    "\n",
    "# 積分範囲　-∞　~　xの範囲は、生成した乱数がその範囲に該当するかどうかを判別\n",
    "intg_ls =[]\n",
    "\n",
    "for x in x_bins:\n",
    "    integral, error = quad(gauss_function, -np.inf, x)\n",
    "    intg_ls.append(integral)\n",
    "    "
   ]
  },
  {
   "cell_type": "code",
   "execution_count": 4,
   "id": "40138ea3-611f-4fd2-9eeb-7e02e050c114",
   "metadata": {},
   "outputs": [],
   "source": [
    "def montecalro_dice(intg_ls):\n",
    "    #初期化\n",
    "    out = 0\n",
    "    #0~1の一様乱数を生成\n",
    "    random_number=np.random.random()\n",
    "\n",
    "    #生成した乱数がどのbinに該当するかを判別する。\n",
    "    for n,prob in enumerate(intg_ls):\n",
    "        if random_number <= prob:\n",
    "            out = x_bins[n]\n",
    "            break\n",
    "    return out\n",
    "                "
   ]
  },
  {
   "cell_type": "code",
   "execution_count": 5,
   "id": "1a8271d2-ab3d-4114-8368-a75d350df52f",
   "metadata": {},
   "outputs": [],
   "source": [
    "#サンプリング数\n",
    "sampling_num = 10000\n",
    "sampling_data= []\n",
    "#サンプリングデータ生成\n",
    "for _ in range(sampling_num):\n",
    "    data_x = montecalro_dice(intg_ls)\n",
    "    sampling_data.append(data_x)"
   ]
  },
  {
   "cell_type": "code",
   "execution_count": 6,
   "id": "dd9d6355-9c22-4433-9521-911865f2f874",
   "metadata": {},
   "outputs": [
    {
     "data": {
      "image/png": "[encoded data removed]",
      "text/plain": [
       "<Figure size 600x300 with 1 Axes>"
      ]
     },
     "metadata": {},
     "output_type": "display_data"
    }
   ],
   "source": [
    "import matplotlib.pyplot as plt\n",
    "import numpy as np\n",
    "\n",
    "plt.figure(figsize=(6,3))\n",
    "\n",
    "# ヒストグラムの描画\n",
    "plt.hist(sampling_data,bins=15)\n",
    "# タイトルと軸ラベルの追加\n",
    "plt.title('Histogram Example')\n",
    "plt.xlabel('Value')\n",
    "plt.ylabel('Frequency')\n",
    "\n",
    "# ヒストグラムの表示\n",
    "plt.show()\n"
   ]
  },
  {
   "cell_type": "code",
   "execution_count": null,
   "id": "66829210-5095-4408-a235-fa2f14eb7f90",
   "metadata": {},
   "outputs": [],
   "source": []
  },
  {
   "cell_type": "code",
   "execution_count": null,
   "id": "c0d15f0f-6128-47fb-8e1e-fb535f20ef12",
   "metadata": {},
   "outputs": [],
   "source": []
  },
  {
   "cell_type": "code",
   "execution_count": null,
   "id": "fe5097cc-2298-4c37-9090-f8d6f03a2bc6",
   "metadata": {},
   "outputs": [],
   "source": []
  }
 ],
 "metadata": {
  "kernelspec": {
   "display_name": "Python 3 (ipykernel)",
   "language": "python",
   "name": "python3"
  },
  "language_info": {
   "codemirror_mode": {
    "name": "ipython",
    "version": 3
   },
   "file_extension": ".py",
   "mimetype": "text/x-python",
   "name": "python",
   "nbconvert_exporter": "python",
   "pygments_lexer": "ipython3",
   "version": "3.8.10"
  }
 },
 "nbformat": 4,
 "nbformat_minor": 5
}
