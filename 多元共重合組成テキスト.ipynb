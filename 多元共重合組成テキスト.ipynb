{
 "cells": [
  {
   "cell_type": "markdown",
   "id": "18697be3-468f-48e4-a426-66c456805466",
   "metadata": {},
   "source": [
    "## マルコフ連鎖モンテカルロ法による共重合組成の数値的解法\n"
   ]
  },
  {
   "cell_type": "markdown",
   "id": "ecebbc75-8391-4750-bb31-5de7916a478d",
   "metadata": {},
   "source": [
    "\n",
    "[目次]  \n",
    "・概要  \n",
    "・共重合組成式  \n",
    "・Alfrey-PriceのQ,e-Scheme  \n",
    "・モンテカルロ法  \n",
    "・マルコフ連鎖  \n",
    "・マルコフ連鎖モンテカルロ法  \n",
    "・多元共重合組成の数値的解法"
   ]
  },
  {
   "cell_type": "markdown",
   "id": "b6740a33-ba76-4e6a-a518-599b12f1f049",
   "metadata": {},
   "source": [
    "概要\r\n",
    "\r\n",
    "高分子設計では、モノマーの投入比率が最終製品の物性に大きな影響を与えます。この投入比率は、連鎖重合による材料開発において重要な要素です。物性への影響は、モノマーの配合比によって線形に加わる場合もあればそうでない場合もあります。この違いの背後には、高分子の一次配列（シーケンス）の影響が考えられます。モノマーがポリマー鎖にどのように組み込まれるか、つまり均一かつランダムに導入されるかは、非常に重要な問いです。以下に具体例を示します。\r\n",
    "\r\n",
    "例えば、スチレン（St）とメチルメタクリレート（MMA）を50/50の比率で混合し、溶液系で攪拌しながらラジカル重合を行った場合を考えます。生成するポリマー鎖の配列は、NMRスペクトルによる連子解析を通じて以下のように推定されるかもしれません：\r\n",
    "\r\n",
    "MMA-MMA-St-MMA-St-St-St-MMA-MMA-St-St-MMA-St-St-MMA-St-MMA-St\r\n",
    "\r\n",
    "この配列からは、StとMMAが交互になることもあれば、同種のモノマーが連続して共重合することも観察されます。これはランダム共重合と呼ばれます。一方、スチレン（St）と無水マレイン酸（MAH）を組み合わせた共重合では、以下のようにモノマーが交互に付加することが知られています：\r\n",
    "\r\n",
    "St-MAH-St-MAH-St-MAH-St-MAH-St-MAH-St-MAH-St-MAH-St-MAH-St-MAH\r\n",
    "\r\n",
    "これは交互共重合体と呼ばれ、StラジカルがMAHモノマーに、MAHラジカルがStモノマーに選択的に付加することによるものです。この選択性は、モノマーとラジカル種の反応性（反応速度）が組み合わせによって異なるために生じます。"
   ]
  },
  {
   "cell_type": "markdown",
   "id": "257bf623-75f2-4149-bcc8-d98edfd4f2fb",
   "metadata": {},
   "source": [
    "### Alfray-Price のQe-Scheme\n",
    "  先述のようなSt/MMA系とSt/MAH系の一次構造の違いは、モノマーの反応性比によって説明される。反応性比とは、2種類のモノマーAとBを共重合させた際に、AtoAのホモ付加反応が進行する速度 kAAと、AtoBのヘテロ付加反応が進行する速度kABの比によって記述される。  \n",
    "即ち、反応性比ｒABは  \n",
    "$$r_{AB} = \\frac{k_{AA}}{ k_{AB}}$$\n",
    "\n",
    "である。さて、この反応性比はモノマーを共重合した際にどのような共重合様式をたどるかを決める因子になる。反応性比の実測方法として、Fineman-Loss法が有名である。ここでは、反応性比を実測する方法ではなく、パラメータによる推定方法としてよく知られているAlfrey-PriceのQe-Schemeについて説明する。Qe-Schemeとは、モノマーの二重結合に対し、Q値とe値の2つの因子を仮定し、それらからモデル式に当てはめて反応速度定数を予測する方法である。Q値は二重結合の共鳴安定性に関する因子、e値は二重結合の電子吸引性に関する因子である。$M_A$ラジカルと$M_B$モノマーの反応速度定数$k_{AB}$は次式で表される。  \n",
    "\n",
    "$$M_A*\\ +\\ M_B\\ ->\\ M_A-M_B*$$\n",
    "$$k_{AB}=P_{A}Q_{B}exp(-e_{A}e_{B})$$\n",
    "\n",
    "反応速度はAラジカルの活性が高く、Bラジカルが安定であるほど早い。そして、付加するモノマー同士は電子供与性と電子吸引性の組み合わせ(ドナーとアクセプターの関係)であるほど早いことを意味する。\n",
    "\n",
    "### 反応速度から反応確率を導く\n",
    "Qe-Schemeにより任意のモノマーの反応速度が表現できることが分かった。したがって反応性比もQe-Schemeにより表現できる。今回は反応性比と似た考え方で、反応確率を定義した。反応確率は、活性種が起こしうる全ての反応に対する、特定の反応が起こる確率として考える。例えばAラジカルからBモノマーへの付加反応確率$P_{AB}$について考えると、\n",
    "$$M_A*\\ +\\ M_A\\ ->\\ M_A-M_A*\\ \\ \\ \\ \\ \\ (1)$$\n",
    "$$M_A*\\ +\\ M_B\\ ->\\ M_A-M_B*\\ \\ \\ \\ \\ \\ (2)$$  \n",
    "\n",
    "の二つの反応が起こりうる。ここで、反応(1)の反応速度が反応(2)の反応速度の2倍だとすれば,(1)が起きる確率は66%,(2)が起きる確率は33%であると考えられる。\n",
    "つまり$M_A*$ラジカルが起こしうる付加反応速度全体に対する$M_B$モノマーへの付加反応速度$k_{AB}$の分率によって表現できる。 即ち、一般化すると、\n",
    "\n",
    "$$P_{AB}=\\frac{R_{AB}}{R_{AB}+R_{AA}}$$  \n",
    "$$=\\frac{k_{AB}[M_{A}*][M_{B}]}{k_{AB}[M_{A}*][M_{B}]+k_{AA}[M_{A}*][M_{A}]} $$  \n",
    "$$=\\frac{k_{AB}[M_{B}]}{k_{AB}[M_{B}] + k_{AA}[M_{A}]} $$  \n",
    "\n",
    "ここで、Alflay-priceの式を用いて式を整理すると  \n",
    "\n",
    "$$=\\frac{[M_{B}]P_{B}Q_{A}exp(-e_{A}e_{A}) }{[M_{B}]P_{A}Q_{B}exp(-e_{A}e_{B})+[M_{A}]P_{A}Q_{A}exp(-e_{A}e_{A})}$$   \n",
    "$$=\\frac{[M_{B}]Q_{B}exp(-e_{A}e_{B}) }{[M_{B}]Q_{B}exp(-e_{B}e_{A})+[M_{A}]Q_{A}exp(-e_{A}e_{A})}$$  \n",
    "\n",
    "### 多元共重合への拡張  \n",
    "上記の例は二種類のモノマー間の関係である。つまりに二元共重合における反応を考えている。一方で、実際には多数のモノマーを組み合わせて重合を行う場合が多く、そのような重合系のモノマー消費挙動を表現するには、上記の反応性比の概念を拡張して利用する必要がある。今、N種のモノマー$M_1$,$M_2$...$M_A$...$M_B$...$M_n$を共重合させた系における、ラジカル$M_A*$からモノマー$M_B$へのラジカル付加反応  \n",
    "\n",
    "$$M_A*\\ +\\ M_B\\ ->\\ M_A-M_B*$$  \n",
    "\n",
    "の反応確率を$P_{AB}$とすると、\n",
    "\n",
    "$$P_{AB}= \\frac{[M_{B}]Q_{B}exp(-e_{A}e_{B}) }{\\sum_{i=1}^n [M_{i}]Q_{i}exp(-e_{A}e_{i})}\\ \\ \\ (1 \\leqq i \\leqq n)$$\n"
   ]
  },
  {
   "cell_type": "markdown",
   "id": "00a8e0e7-107c-4578-ac22-43024f05c132",
   "metadata": {},
   "source": [
    "\n",
    "\n",
    "### モノマーの反応性比と共重合様式の決定\n",
    "\n",
    "スチレン（St）/メチルメタクリレート（MMA）系とスチレン（St）/無水マレイン酸（MAH）系の一次構造の違いは、モノマーの反応性比によって説明されます。反応性比とは、2種類のモノマーAとBを共重合させた際、AからAへのホモ付加反応速度 kAAとAからBへのヘテロ付加反応速度kABの比率を示し、\n",
    "​$$r_{AB} = \\frac{k_{AA}}{ k_{AB}}$$\n",
    " で表されます。この比率は、共重合する際のモノマーの振る舞いや生成するポリマーの構造を予測するのに役立ちます。\n",
    "\n",
    "### Alfrey-PriceのQe-Scheme\n",
    "\n",
    "モノマーの反応性比を実測する方法としてはFineman-Ross法が知られていますが、ここでは実験的手法ではなく、経験的パラメータに基づく反応性比予測理論である、Alfrey-PriceのQe-Schemeを用いた推定方法について説明します。このスキームでは、モノマーの二重結合に対する共鳴安定性を示すQ値と、二重結合の電子吸引性を示すe値という2つのパラメータを用いて、反応速度定数をモデル式に当てはめて予測します。\n",
    "\n",
    "Qeスキームの考え方として、ラジカルとモノマーの反応速度定数は、活性ラジカルAの反応性と安定なラジカルBの反応性、および電子供与性と電子吸引性の組み合わせによって決まると仮定しています。(ドナーとアクセプターの関係)この\n",
    "\n",
    "これにより、特定のモノマー間での反応確率を算出することができます。\n",
    "\n",
    "反応確率の導出\n",
    "\n",
    "Qe-Schemeに基づき、任意のモノマーの反応速度が表現できるため、反応確率も同様に表現できます。反応確率は、活性種が起こしうる全ての反応における、特定の反応が起こる確率です。例えば、AラジカルからBモノマーへの付加反応確率は、Aラジカルが起こしうる全ての付加反応速度に対する、特定のモノマーへの付加反応速度の割合によって決まります。\n",
    "\n",
    "## 多元共重合への拡張\n",
    "\n",
    "上記の説明は二元共重合における反応に限定されていますが、実際には多種類のモノマーを組み合わせた重合が行われることが多いです。このような多元共重合システムのモノマー消費挙動を理解するためには、反応性比の概念を拡張して適用する必要があります。N種類のモノマーを共重合させた場合の、特定のラジカルから特定のモノマーへの付加反応確率は、全ての可能なラジカル付加反応速度に対するその反応速度の割合として定義できます。"
   ]
  },
  {
   "cell_type": "code",
   "execution_count": 1,
   "id": "66091f5d-c5b3-422b-8e64-83fdd8371c1b",
   "metadata": {},
   "outputs": [
    {
     "data": {
      "text/plain": [
       "16.666666666666668"
      ]
     },
     "execution_count": 1,
     "metadata": {},
     "output_type": "execute_result"
    }
   ],
   "source": [
    "100/6"
   ]
  },
  {
   "cell_type": "markdown",
   "id": "c5f859ad-fffa-48fc-b013-bbeba7152b45",
   "metadata": {},
   "source": [
    "### 前提1: モンテカルロ法\n",
    "モンテカルロ法は、一様乱数の生成による試行を繰り返すことで確率分布の数値解の導出を行う手法である。確率分布を解析的に得ることが困難な事象に対して強力なツールです。簡単に言えば、実際の現象に近い確率密度分布を持つ「ひずんださいころ」を何度も投げることで、統計的データを生成し、現象を再現する事です。\n",
    "\n",
    "\n",
    "### 前提2 確率密度分布とは\n",
    "確率密度分布とは、起こりうる各事象について、その事象が発生する確率の割り当て(分布)のことです。通常、起こりうる事象変数をy,　発生確率をP(y)とした関数としてあらわされます。例えば、さいころを投げた時に、発生しうる事象とそれが起こる確率は\n",
    "\n"
   ]
  },
  {
   "cell_type": "code",
   "execution_count": 2,
   "id": "8e7f2a0d-65a8-4765-b924-e3e9368b36d1",
   "metadata": {},
   "outputs": [
    {
     "name": "stdout",
     "output_type": "stream",
     "text": [
      "              1          2          3          4          5          6\n",
      "P(y)  16.666667  16.666667  16.666667  16.666667  16.666667  16.666667\n"
     ]
    }
   ],
   "source": [
    "import numpy as np\n",
    "import pandas as pd\n",
    "\n",
    "x = [1,2,3,4,5,6]\n",
    "y = [100/6 for _ in x]\n",
    "df = pd.DataFrame([y])\n",
    "df.columns = x\n",
    "df.index=[\"P(y)\"]\n",
    "print(df)"
   ]
  },
  {
   "cell_type": "markdown",
   "id": "4124380b-e097-4d71-92ed-9caeaf0e6d98",
   "metadata": {},
   "source": [
    "このとき、1~6のいずれの数字においても起こる確率分布は0.166です。さいころの場合には、\n",
    "事象がカテゴリ変数である為、不連続な値を取りますが、連続した値をとこともできるはずです。\n",
    "その場合には、binごとの確率分布をbinの幅で割った値を考える必要があり、この値が確率密度です。\n",
    "そして、事象変数に対する確率密度の分布が、確率密度分布となります。\n",
    "\n",
    "たとえば、平均0,標準偏差1のガウス分布は下記のようになります。\n",
    "ガウス分布の確率密度関数は以下の式で与えられます。\n",
    "\n",
    "$\n",
    "f(x) = \\frac{1}{\\sqrt{2\\pi\\sigma^2}} \\exp\\left(-\\frac{(x - \\mu)^2}{2\\sigma^2}\\right)\n",
    "$\n"
   ]
  },
  {
   "cell_type": "code",
   "execution_count": 3,
   "id": "2cb595aa-562d-4497-80b6-9b499ef75f31",
   "metadata": {},
   "outputs": [
    {
     "data": {
      "image/png": "[encoded data removed]",
      "text/plain": [
       "<Figure size 500x200 with 1 Axes>"
      ]
     },
     "metadata": {},
     "output_type": "display_data"
    }
   ],
   "source": [
    "from scipy.stats import norm\n",
    "import numpy as np\n",
    "import matplotlib.pyplot as plt\n",
    "\n",
    "# 平均と標準偏差を定義\n",
    "mu = 0  # 平均\n",
    "sigma = 1  # 標準偏差\n",
    "\n",
    "# ガウス分布（正規分布）のPDF（確率密度関数）をプロット\n",
    "x = np.linspace(-3*sigma + mu, 3*sigma + mu, 100)\n",
    "y = norm.pdf(x, mu, sigma)\n",
    "plt.figure(figsize=(5,2))\n",
    "plt.plot(x, y)\n",
    "plt.title('Gaussian Distribution (mu=0, sigma=1)')\n",
    "plt.xlabel('x')\n",
    "plt.ylabel('Probability Density')\n",
    "plt.grid(True)\n",
    "plt.show()"
   ]
  },
  {
   "cell_type": "markdown",
   "id": "b29fac92-3622-45e1-9bb8-1d712a99958c",
   "metadata": {},
   "source": [
    "この確率密度分布に従う統計データを疑似的に生成することが出来ます。\n",
    "確率変数xを、幅0.5のbinに分割して、各確率分布を算出してみます。\n"
   ]
  },
  {
   "cell_type": "code",
   "execution_count": 8,
   "id": "22a9d684-1dc6-4638-8540-8970a9b9436d",
   "metadata": {},
   "outputs": [
    {
     "data": {
      "text/plain": [
       "array([-3. , -2.5, -2. , -1.5, -1. , -0.5,  0. ,  0.5,  1. ,  1.5,  2. ,\n",
       "        2.5])"
      ]
     },
     "execution_count": 8,
     "metadata": {},
     "output_type": "execute_result"
    }
   ],
   "source": []
  },
  {
   "cell_type": "code",
   "execution_count": 218,
   "id": "da2f293c-b233-4862-b56a-f2b028cdd097",
   "metadata": {},
   "outputs": [],
   "source": [
    "\n",
    "bin_width=0.5\n",
    "x_bins = np.arange(-10,10,bin_width)\n",
    "\n",
    "from scipy.integrate import quad\n",
    "\n",
    "# 平均と標準偏差を定義\n",
    "mu = 0  # 平均\n",
    "sigma = 1  # 標準偏差\n",
    "\n",
    "\n",
    "\n",
    "# 確率密度関数(ここではガウス関数)\n",
    "def gauss_function(x, mu=0, sigma=1):\n",
    "    f1 = norm.pdf(x, mu, sigma)\n",
    "    return f1\n",
    "\n",
    "# 積分範囲　-∞　~　xの範囲は、生成した乱数がその範囲に該当するかどうかを判別\n",
    "intg_ls =[]\n",
    "\n",
    "for x in x_bins:\n",
    "    integral, error = quad(gauss_function, -np.inf, x)\n",
    "    intg_ls.append(integral)\n",
    "    "
   ]
  },
  {
   "cell_type": "code",
   "execution_count": null,
   "id": "fa94ba02-609d-42ca-a4cb-4f26eb881e68",
   "metadata": {},
   "outputs": [],
   "source": []
  },
  {
   "cell_type": "code",
   "execution_count": 219,
   "id": "40138ea3-611f-4fd2-9eeb-7e02e050c114",
   "metadata": {},
   "outputs": [],
   "source": [
    "\n",
    "\n",
    "def montecalro_dice(intg_ls):\n",
    "    #初期化\n",
    "    out = 0\n",
    "    #0~1の一様乱数を生成\n",
    "    random_number=np.random.random()\n",
    "\n",
    "    #生成した乱数がどのbinに該当するかを判別する。\n",
    "    for n,prob in enumerate(intg_ls):\n",
    "        if random_number <=prob:\n",
    "            out = x_bins[n]\n",
    "            break\n",
    "    return out\n",
    "                "
   ]
  },
  {
   "cell_type": "code",
   "execution_count": 220,
   "id": "1a8271d2-ab3d-4114-8368-a75d350df52f",
   "metadata": {},
   "outputs": [],
   "source": [
    "sampling_num = 10000\n",
    "sampling_data= []\n",
    "\n",
    "for _ in range(sampling_num):\n",
    "    data_x = montecalro_dice(intg_ls)\n",
    "    sampling_data.append(data_x)"
   ]
  },
  {
   "cell_type": "code",
   "execution_count": 221,
   "id": "dd9d6355-9c22-4433-9521-911865f2f874",
   "metadata": {},
   "outputs": [
    {
     "data": {
      "image/png": "[encoded data removed]",
      "text/plain": [
       "<Figure size 600x300 with 1 Axes>"
      ]
     },
     "metadata": {},
     "output_type": "display_data"
    }
   ],
   "source": [
    "import matplotlib.pyplot as plt\n",
    "import numpy as np\n",
    "\n",
    "\n",
    "plt.figure(figsize=(6,3))\n",
    "\n",
    "# ヒストグラムの描画\n",
    "plt.hist(sampling_data,bins=26)\n",
    "# タイトルと軸ラベルの追加\n",
    "plt.title('Histogram Example')\n",
    "plt.xlabel('Value')\n",
    "plt.ylabel('Frequency')\n",
    "\n",
    "# ヒストグラムの表示\n",
    "plt.show()\n"
   ]
  },
  {
   "cell_type": "code",
   "execution_count": null,
   "id": "66829210-5095-4408-a235-fa2f14eb7f90",
   "metadata": {},
   "outputs": [],
   "source": []
  },
  {
   "cell_type": "code",
   "execution_count": null,
   "id": "c0d15f0f-6128-47fb-8e1e-fb535f20ef12",
   "metadata": {},
   "outputs": [],
   "source": []
  },
  {
   "cell_type": "code",
   "execution_count": null,
   "id": "fe5097cc-2298-4c37-9090-f8d6f03a2bc6",
   "metadata": {},
   "outputs": [],
   "source": []
  }
 ],
 "metadata": {
  "kernelspec": {
   "display_name": "Python 3 (ipykernel)",
   "language": "python",
   "name": "python3"
  },
  "language_info": {
   "codemirror_mode": {
    "name": "ipython",
    "version": 3
   },
   "file_extension": ".py",
   "mimetype": "text/x-python",
   "name": "python",
   "nbconvert_exporter": "python",
   "pygments_lexer": "ipython3",
   "version": "3.8.10"
  }
 },
 "nbformat": 4,
 "nbformat_minor": 5
}
