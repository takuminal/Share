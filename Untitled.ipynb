{
 "cells": [
  {
   "cell_type": "code",
   "execution_count": 1,
   "id": "d164a395-1edb-43e9-80f6-34052d97ad48",
   "metadata": {},
   "outputs": [
    {
     "name": "stdout",
     "output_type": "stream",
     "text": [
      "Collecting customtkinter\n",
      "  Obtaining dependency information for customtkinter from https://files.pythonhosted.org/packages/82/23/00394404c38db474d31471e618abbbc0034483c0d4178ba6328647da1a32/customtkinter-5.2.0-py3-none-any.whl.metadata\n",
      "  Downloading customtkinter-5.2.0-py3-none-any.whl.metadata (652 bytes)\n",
      "Collecting darkdetect (from customtkinter)\n",
      "  Downloading darkdetect-0.8.0-py3-none-any.whl (9.0 kB)\n",
      "Downloading customtkinter-5.2.0-py3-none-any.whl (295 kB)\n",
      "   ---------------------------------------- 0.0/295.6 kB ? eta -:--:--\n",
      "   -------------------------------------- - 286.7/295.6 kB 8.9 MB/s eta 0:00:01\n",
      "   ---------------------------------------- 295.6/295.6 kB 6.1 MB/s eta 0:00:00\n",
      "Installing collected packages: darkdetect, customtkinter\n",
      "Successfully installed customtkinter-5.2.0 darkdetect-0.8.0\n",
      "Note: you may need to restart the kernel to use updated packages.\n"
     ]
    }
   ],
   "source": [
    "pip install customtkinter"
   ]
  },
  {
   "cell_type": "code",
   "execution_count": 2,
   "id": "5d8c4805-21e5-4cdd-b359-052e61a31cc8",
   "metadata": {},
   "outputs": [],
   "source": [
    "import customtkinter\n",
    "from modules import function as fc\n",
    "from rdkit import Chem\n",
    "import pubchempy as pcp\n",
    "import csv\n",
    "import pandas as pd\n",
    "\n",
    "\n",
    "\n",
    "FONT_TYPE = \"meiryo\"\n",
    "\n",
    "class App(customtkinter.CTk):\n",
    "\n",
    "    def __init__(self):\n",
    "        super().__init__()\n",
    "\n",
    "        # メンバー変数の設定\n",
    "        self.fonts = (FONT_TYPE, 15)\n",
    "        # フォームサイズ設定\n",
    "        self.geometry(\"350x200\")\n",
    "        self.title(\"Basic GUI\")\n",
    "\n",
    "        # フォームのセットアップをする\n",
    "        self.setup_form()\n",
    "    \n",
    "    def setup_form(self):\n",
    "        # CustomTkinter のフォームデザイン設定\n",
    "        customtkinter.set_appearance_mode(\"Light\")  # Modes: system (default), light, dark\n",
    "        customtkinter.set_default_color_theme(\"blue\")  # Themes: blue (default), dark-blue, green\n",
    "\n",
    "        # テキストボックスを表示する\n",
    "        self.textbox = customtkinter.CTkEntry(\n",
    "            master=self, \n",
    "            placeholder_text=\"Input Chemical Name\", \n",
    "            width=220, \n",
    "            font=self.fonts)\n",
    "        self.textbox.place(x=60, y=50)\n",
    "\n",
    "        self.\n",
    "\n",
    "        # ボタンを表示する\n",
    "        self.button = customtkinter.CTkButton(\n",
    "            master=self, text=\"Run\", \n",
    "            command=self.button_function, \n",
    "            font=self.fonts)\n",
    "        self.button.place(x=100, y=100)\n",
    "    \n",
    "    def button_function(self):\n",
    "        # テキストボックスに入力されたテキストを表示する\n",
    "        \n",
    "        input_val = self.textbox.get()\n",
    "        results = pcp.get_compounds(input_val, 'name')\n",
    "        compound = results[0]\n",
    "        smiles = compound.canonical_smiles\n",
    "        fg = fc.count_functional_groups(smiles)\n",
    "\n",
    "        \n",
    "\n",
    "\n",
    "if __name__ == \"__main__\":\n",
    "    # アプリケーション実行\n",
    "    app = App()\n",
    "    app.mainloop()\n"
   ]
  },
  {
   "cell_type": "code",
   "execution_count": null,
   "id": "a71091ec-ad44-4a36-bf49-6ed90971d97e",
   "metadata": {},
   "outputs": [],
   "source": []
  }
 ],
 "metadata": {
  "kernelspec": {
   "display_name": "Python 3 (ipykernel)",
   "language": "python",
   "name": "python3"
  },
  "language_info": {
   "codemirror_mode": {
    "name": "ipython",
    "version": 3
   },
   "file_extension": ".py",
   "mimetype": "text/x-python",
   "name": "python",
   "nbconvert_exporter": "python",
   "pygments_lexer": "ipython3",
   "version": "3.8.10"
  }
 },
 "nbformat": 4,
 "nbformat_minor": 5
}
