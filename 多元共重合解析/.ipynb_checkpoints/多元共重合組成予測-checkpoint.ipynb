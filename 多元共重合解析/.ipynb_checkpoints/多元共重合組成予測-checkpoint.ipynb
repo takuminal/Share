{
 "cells": [
  {
   "cell_type": "markdown",
   "id": "18697be3-468f-48e4-a426-66c456805466",
   "metadata": {},
   "source": [
    "## モンテカルロ法による共重合組成の数値的予測\n"
   ]
  },
  {
   "cell_type": "markdown",
   "id": "ecebbc75-8391-4750-bb31-5de7916a478d",
   "metadata": {},
   "source": [
    "\n",
    "[目次]  \n",
    "・概要  \n",
    "・共重合組成式  \n",
    "・Alfrey-PriceのQ,e-Scheme  \n",
    "・モンテカルロ法  \n",
    "・マルコフ連鎖  \n",
    "・マルコフ連鎖モンテカルロ法  \n",
    "・多元共重合組成の数値的解法"
   ]
  },
  {
   "cell_type": "markdown",
   "id": "b6740a33-ba76-4e6a-a518-599b12f1f049",
   "metadata": {},
   "source": [
    "概要\r\n",
    "\r\n",
    "高分子設計では、モノマーの投入比率が最終製品の物性に大きな影響を与えます。この投入比率は、連鎖重合による材料開発において重要な要素です。物性への影響は、モノマーの配合比によって線形に加わる場合もあればそうでない場合もあります。この違いの背後には、高分子の一次配列（シーケンス）の影響が考えられます。モノマーがポリマー鎖にどのように組み込まれるか、つまり均一かつランダムに導入されるかは、非常に重要な問いです。以下に具体例を示します。\r\n",
    "\r\n",
    "例えば、スチレン（St）とメチルメタクリレート（MMA）を50/50の比率で混合し、溶液系で攪拌しながらラジカル重合を行った場合を考えます。生成するポリマー鎖の配列は、NMRスペクトルによる連子解析を通じて以下のように推定されるかもしれません：\r\n",
    "\r\n",
    "MMA-MMA-St-MMA-St-St-St-MMA-MMA-St-St-MMA-St-St-MMA-St-MMA-St\r\n",
    "\r\n",
    "この配列からは、StとMMAが交互になることもあれば、同種のモノマーが連続して共重合することも観察されます。これはランダム共重合と呼ばれます。一方、スチレン（St）と無水マレイン酸（MAH）を組み合わせた共重合では、以下のようにモノマーが交互に付加することが知られています：\r\n",
    "\r\n",
    "St-MAH-St-MAH-St-MAH-St-MAH-St-MAH-St-MAH-St-MAH-St-MAH-St-MAH\r\n",
    "\r\n",
    "これは交互共重合体と呼ばれ、StラジカルがMAHモノマーに、MAHラジカルがStモノマーに選択的に付加することによるものです。この選択性は、モノマーとラジカル種の反応性（反応速度）が組み合わせによって異なるために生じます。"
   ]
  },
  {
   "cell_type": "markdown",
   "id": "257bf623-75f2-4149-bcc8-d98edfd4f2fb",
   "metadata": {},
   "source": [
    "### モノマーの反応性比と共重合様式の決定\n",
    "\n",
    "スチレン（St）/メチルメタクリレート（MMA）系とスチレン（St）/無水マレイン酸（MAH）系の一次構造の違いは、モノマーの反応性比によって説明されます。反応性比とは、2種類のモノマーAとBを共重合させた際、AからAへのホモ付加反応速度 kAAとAからBへのヘテロ付加反応速度kABの比率を示し、\n",
    "$$r_{AB} = \\frac{k_{AA}}{ k_{AB}}$$\n",
    "\n",
    " で表されます。この比率は、共重合する際のモノマーの振る舞いや生成するポリマーの構造を予測するのに役立ちます。反応性比の実測方法として、Fineman-Loss法が有名ですが、ここでは、反応性比を実測する方法ではなく、パラメータによる推定方法としてよく知られているAlfrey-PriceのQe-Schemeについて説明します。Qe-Schemeとは、モノマーの二重結合に対し、Q値とe値の2つの因子を仮定し、それらからモデル式に当てはめて反応速度定数を予測する方法です。Q値は二重結合の共鳴安定性に関する因子、e値は二重結合の電子吸引性に関する因子となります。$M_A$ラジカルと$M_B$モノマーの反応速度定数$k_{AB}$は次式で表されます。  \n",
    "\n",
    "$$M_A*\\ +\\ M_B\\ ->\\ M_A-M_B*$$\n",
    "$$k_{AB}=P_{A}Q_{B}exp(-e_{A}e_{B})$$\n",
    "\n",
    "反応速度はAラジカルの活性が高く、Bラジカルが安定であるほど早くなります。そして、付加するモノマー同士は電子供与性と電子吸引性の組み合わせ(ドナーとアクセプターの関係)であるほど早いことを意味します。\n",
    "\n",
    "### 反応速度から反応確率を導く\n",
    "Qe-Schemeにより任意のモノマーの反応速度が表現できることが分かりました。したがって反応性比もQe-Schemeにより表現できます。今回は反応性比と似た考え方で、反応確率を定義した。反応確率は、活性種が起こしうる全ての反応に対する、特定の反応が起こる確率として考える。例えばMiラジカルからMjモノマーへの付加反応確率$P(i,j)$について考えると、\n",
    "$$M_i*\\ +\\ M_i\\ ->\\ M_i-M_i*\\ \\ \\ \\ \\ \\ (1)$$\n",
    "$$M_i*\\ +\\ M_j\\ ->\\ M_i-M_j*\\ \\ \\ \\ \\ \\ (2)$$  \n",
    "\n",
    "の二つの反応が起こりえます。ここで、反応(1)の反応速度が反応(2)の反応速度の2倍だとすれば,(1)が起きる確率は66%,(2)が起きる確率は33%であると考えられます。\n",
    "つまり$M_A*$ラジカルが起こしうる付加反応速度全体に対する$M_B$モノマーへの付加反応速度$k_{AB}$の分率によって表現できる。 \n",
    "すなわち、\n",
    "\n",
    "$$P_{AB}=\\frac{R_{AB}}{R_{AB}+R_{AA}}$$  \n",
    "$$=\\frac{k_{AB}[M_{A}*][M_{B}]}{k_{AB}[M_{A}*][M_{B}]+k_{AA}[M_{A}*][M_{A}]} $$  \n",
    "$$=\\frac{k_{AB}[M_{B}]}{k_{AB}[M_{B}] + k_{AA}[M_{A}]} $$  \n",
    "\n",
    "ここで、Alflay-priceの式を用いて式を整理すると  \n",
    "\n",
    "$$=\\frac{[M_{B}]P_{B}Q_{A}exp(-e_{A}e_{A}) }{[M_{B}]P_{A}Q_{B}exp(-e_{A}e_{B})+[M_{A}]P_{A}Q_{A}exp(-e_{A}e_{A})}$$   \n",
    "$$=\\frac{[M_{B}]Q_{B}exp(-e_{A}e_{B}) }{[M_{B}]Q_{B}exp(-e_{B}e_{A})+[M_{A}]Q_{A}exp(-e_{A}e_{A})}$$  \n",
    "\n",
    "### 多元共重合への拡張  \n",
    "上記の例は二種類のモノマー間の関係です。つまりに二元共重合における反応を考えます。一方で、実際には多数のモノマーを組み合わせて重合を行う場合が多く、そのような重合系のモノマー消費挙動を表現するには、上記の反応性比の概念を拡張して利用する必要があります。今、N種のモノマー$M_1$,$M_2$...$M_i$...$M_j$...$M_n$を共重合させた系における、ラジカル$M_A*$からモノマー$M_B$へのラジカル付加反応  \n",
    "\n",
    "$$M_i*\\ +\\ M_j\\ ->\\ M_i-M_j*$$  \n",
    "\n",
    "の反応確率を$P(ij)$とすると、\n",
    "\n",
    "$$\n",
    "P(ij)= \\frac{[M_{j}]Q_{j}exp(-e_{i}e_{j}) }{\\sum_{k=1}^n [M_{i}]Q_{i}exp(-e_{i}e_{k})}\n",
    "$$\n",
    "\n",
    "$$\n",
    "     = \\frac{[M_{j}]Q_{j}exp(-e_{i}e_{j}) }{[M_{i}]Q_{i}\\sum_{k=1}^n exp(-e_{i}e_{k})}\n",
    "$$\n",
    "\n",
    "\n",
    "によって、ラジカル種とモノマー種の組み合わせで反応確率が決定されます。\n",
    "ラジカル種により、付加するモノマー種の反応確率分布が決定されますが、反応後にはまたラジカル種が変わり、反応が起きる確率分布が変わります。\n",
    "\n"
   ]
  },
  {
   "cell_type": "markdown",
   "id": "a4798fb8-4684-4d25-91f0-65e432c959ef",
   "metadata": {},
   "source": [
    "高分子末端にモノマーが順次反応していき、末端の活性種が遷移する際の、遷移確率行列は、\n",
    "\n",
    "\\begin{equation}\r\n",
    "T = \\begin{bmatrix}\r\n",
    "P_{11} & P_{12} & \\cdots & P_{1n} \\\\\r\n",
    "P_{21} & P_{22} & \\cdots & P_{2n} \\\\\r\n",
    "\\vdots & \\vdots & \\ddots & \\vdots \\\\\r\n",
    "P_{n1} & P_{n2} & \\cdots & P_{nn}\r\n",
    "\\end{bmatrix}\r\n",
    "\\end{equation}\r\n",
    "\n",
    "\n"
   ]
  },
  {
   "cell_type": "markdown",
   "id": "c5f859ad-fffa-48fc-b013-bbeba7152b45",
   "metadata": {},
   "source": [
    "## 停止反応がない、一本鎖の成長反応モデル"
   ]
  },
  {
   "cell_type": "code",
   "execution_count": 168,
   "id": "223a7add-28c2-4fb4-bf16-f3e762c54bb0",
   "metadata": {},
   "outputs": [],
   "source": [
    "import numpy as np\n",
    "\n",
    "#反応確率を導出する関数\n",
    "# M :[list] モノマーの名称文字列を格納\n",
    "# Q :[list] モノマーのQ値を格納\n",
    "\n",
    "\n",
    "def react_prob(M,Q,e):\n",
    "\n",
    "    #iはラジカル種のindex\n",
    "    col=[]\n",
    "    for i in range(len(M)): \n",
    "        #jは付加するモノマー種のindex\n",
    "        row=[]\n",
    "        \n",
    "        for j in range(len(M)):\n",
    "            bunsi=  M[j]*Q[j]*np.exp(-e[i]*e[j])\n",
    "            bunbo_sum=0\n",
    "            \n",
    "            #kは合計する為だけのもの\n",
    "            for k in range(len(M)):   \n",
    "                bunbo_sum += M[k]*Q[k]*np.exp(-e[i]*e[k])\n",
    "            P_ij = bunsi/bunbo_sum\n",
    "            row.append(P_ij)\n",
    "        col.append(row)\n",
    "    return np.array(col)\n",
    "                \n",
    "        "
   ]
  },
  {
   "cell_type": "code",
   "execution_count": 169,
   "id": "0dd36d47-c8d7-4657-8c98-ca14f2ad8c03",
   "metadata": {},
   "outputs": [],
   "source": [
    "\n",
    "\n",
    "def montecalro_dice(react_prob, monomer_conc, radical_arr):\n",
    "\n",
    "    \"\"\"\n",
    "    react_prob : n x n array. ラジカルとモノマーの付加反応による遷移確率行列　\n",
    "    monomer_conc : n list. モノマーの量を表す量としてカウント量を格納する。\n",
    "    radical_arr : n list. ラジカルの量を表す量としてカウント量を格納する。\n",
    "    \n",
    "    \"\"\"\n",
    "\n",
    "    class BreakLoop(Exception): pass  # カスタム例外クラス\n",
    "\n",
    "    try:\n",
    "        #react_probを1行ごとに処理していく\n",
    "        for n,elem in enumerate(react_prob):\n",
    "    \n",
    "            #ラジカル配列で、非負数がある場合にその回数だけ試行\n",
    "            if radical_arr[n] > 0:\n",
    "                \n",
    "                #0~1の一様乱数を生成\n",
    "                random_number=np.random.random()\n",
    "                \n",
    "                threshold=0 #判定しきい値の初期化\n",
    "                for m,elem2 in enumerate(elem):\n",
    "                    #しきい値の更新\n",
    "                    threshold += elem2    \n",
    "                    if random_number < threshold:\n",
    "                        \n",
    "                        monomer_conc[m] -= 1 # 該当したらモノマー濃度1カウント減らす。\n",
    "                        radical_arr[n] -= 1  # 元のラジカルを1カウント減らす。\n",
    "                        radical_arr[m] += 1  # 付加後発生するラジカル1カウント増やす。\n",
    "                        raise BreakLoop      # カスタム例外を投げる\n",
    "    \n",
    "    except BreakLoop:\n",
    "        pass  # 例外を捕捉してループを終了\n",
    "        \n",
    "        \n",
    "        \n",
    "                        \n",
    "    return monomer_conc,radical_arr"
   ]
  },
  {
   "cell_type": "code",
   "execution_count": 170,
   "id": "f21bc5b8-0049-4bf8-8c4d-1423289b6401",
   "metadata": {},
   "outputs": [
    {
     "data": {
      "text/html": [
       "<div>\n",
       "<style scoped>\n",
       "    .dataframe tbody tr th:only-of-type {\n",
       "        vertical-align: middle;\n",
       "    }\n",
       "\n",
       "    .dataframe tbody tr th {\n",
       "        vertical-align: top;\n",
       "    }\n",
       "\n",
       "    .dataframe thead th {\n",
       "        text-align: right;\n",
       "    }\n",
       "</style>\n",
       "<table border=\"1\" class=\"dataframe\">\n",
       "  <thead>\n",
       "    <tr style=\"text-align: right;\">\n",
       "      <th></th>\n",
       "      <th>Monomer</th>\n",
       "      <th>Q</th>\n",
       "      <th>e</th>\n",
       "      <th>MW</th>\n",
       "    </tr>\n",
       "  </thead>\n",
       "  <tbody>\n",
       "    <tr>\n",
       "      <th>0</th>\n",
       "      <td>Acenaphthylene</td>\n",
       "      <td>0.72</td>\n",
       "      <td>-1.88</td>\n",
       "      <td>NaN</td>\n",
       "    </tr>\n",
       "    <tr>\n",
       "      <th>1</th>\n",
       "      <td>Acetylene, phenyl</td>\n",
       "      <td>0.45</td>\n",
       "      <td>0.10</td>\n",
       "      <td>NaN</td>\n",
       "    </tr>\n",
       "    <tr>\n",
       "      <th>2</th>\n",
       "      <td>Aconitate, trimethyl</td>\n",
       "      <td>0.25</td>\n",
       "      <td>2.27</td>\n",
       "      <td>NaN</td>\n",
       "    </tr>\n",
       "    <tr>\n",
       "      <th>3</th>\n",
       "      <td>Acrolein</td>\n",
       "      <td>0.80</td>\n",
       "      <td>1.31</td>\n",
       "      <td>56.064</td>\n",
       "    </tr>\n",
       "    <tr>\n",
       "      <th>4</th>\n",
       "      <td>Acrolein, methyl</td>\n",
       "      <td>1.83</td>\n",
       "      <td>0.71</td>\n",
       "      <td>NaN</td>\n",
       "    </tr>\n",
       "  </tbody>\n",
       "</table>\n",
       "</div>"
      ],
      "text/plain": [
       "               Monomer      Q     e      MW\n",
       "0        Acenaphthylene  0.72 -1.88     NaN\n",
       "1     Acetylene, phenyl  0.45  0.10     NaN\n",
       "2  Aconitate, trimethyl  0.25  2.27     NaN\n",
       "3              Acrolein  0.80  1.31  56.064\n",
       "4      Acrolein, methyl  1.83  0.71     NaN"
      ]
     },
     "execution_count": 170,
     "metadata": {},
     "output_type": "execute_result"
    }
   ],
   "source": [
    "import pandas as pd\n",
    "df = pd.read_csv(\"data/test.csv\")\n",
    "df.head()"
   ]
  },
  {
   "cell_type": "code",
   "execution_count": 212,
   "id": "79a0080f-57df-46ce-a53b-229eea0b4ab8",
   "metadata": {},
   "outputs": [],
   "source": [
    "# df['Monomer'] を反復処理\n",
    "for n in range(len(df)):\n",
    "    # カンマで分割\n",
    "    words = df.loc[n, 'Monomer '].split(', ')\n",
    "    # 順序を入れ替えて結合\n",
    "    reversed_text = ' '.join(words[::-1])\n",
    "    # 編集された値をDataFrameに設定\n",
    "    df.loc[n, 'Monomer '] = reversed_text\n"
   ]
  },
  {
   "cell_type": "code",
   "execution_count": 213,
   "id": "3aada150-ca3f-453a-b92e-bc49b1d2df41",
   "metadata": {},
   "outputs": [],
   "source": [
    "#モノマー名からdfを参照し、Q,e値を取得\n",
    "def get_data(monomer_name):\n",
    "    import pandas as pd\n",
    "    df = pd.read_csv(\"Qe_value.csv\")\n",
    "    Q = df.loc[df['Monomer '] == monomer_name, 'Q'].values[0]\n",
    "    e = df.loc[df['Monomer '] == monomer_name, 'e'].values[0]\n",
    "    return Q,e"
   ]
  },
  {
   "cell_type": "code",
   "execution_count": 214,
   "id": "72e3c65b-58f2-4cb7-970b-413c9308234e",
   "metadata": {},
   "outputs": [],
   "source": [
    "#反応に用いるモノマー名のリスト\n",
    "monomer_name = [\"butyl Acrylate\",\"butyl Methacrylate\",\"Styrene\",\"Acrylic Acid\"]\n",
    "monomer_count  = [1000,5000,3000,2000]\n",
    "radical_count  = [0 for _ in enumerate(monomer_name)]\n",
    "\n",
    "# 配列内のランダムな位置を選択\n",
    "rand_posit = np.random.randint(0, len(radical_count))\n",
    "# ランダムな位置の要素を1に設定\n",
    "radical_count[rand_posit] = 1\n",
    "\n",
    "Q,e=[],[]\n",
    "for monomer in monomer_name:\n",
    "    Q.append(get_data(monomer)[0])\n",
    "    e.append(get_data(monomer)[1])"
   ]
  },
  {
   "cell_type": "code",
   "execution_count": 215,
   "id": "499e589b-9041-40c5-a3b4-39ed3f0164da",
   "metadata": {},
   "outputs": [],
   "source": [
    "#結果記録用のdict：key=モノマー名, value =モノマー濃度の量\n",
    "results = {}\n",
    "for elem in monomer_name:\n",
    "    results[elem]=[]\n",
    "\n",
    "M_number = len(monomer_name) \n",
    "count_sum = np.sum(monomer_count)\n",
    "for iteration in range(count_sum):\n",
    "    \n",
    "    #共重合反応遷移確率行列の算出\n",
    "    T = react_prob(monomer_count,Q,e)\n",
    "    \n",
    "    #モンテカルロ試行後のモノマーのカウント、ラジカルのカウント数をそれぞれ算出\n",
    "    #monomer_count,radical_countに格納\n",
    "    monomer_count,radical_count = montecalro_dice(T, monomer_count, radical_count)\n",
    "\n",
    "    \n",
    "\n",
    "    for n,elem in enumerate(monomer_name):\n",
    "        #モノマー名とその配列上の番号を参照、番号から値を取り出す。\n",
    "        x = monomer_count[n]\n",
    "        #resultsに記録\n",
    "        results[elem].append(x)\n",
    "        "
   ]
  },
  {
   "cell_type": "code",
   "execution_count": 216,
   "id": "6792fe08-f224-47d5-b70f-e1abec94cce8",
   "metadata": {},
   "outputs": [],
   "source": [
    "import matplotlib.pyplot as plt"
   ]
  },
  {
   "cell_type": "code",
   "execution_count": null,
   "id": "6a871b29-68fe-46d9-a0d4-1e1083af832e",
   "metadata": {},
   "outputs": [],
   "source": []
  },
  {
   "cell_type": "code",
   "execution_count": 217,
   "id": "395270ba-8750-4c93-85cf-fdca0081e47f",
   "metadata": {},
   "outputs": [
    {
     "data": {
      "image/png": "[encoded data removed]",
      "text/plain": [
       "<Figure size 640x480 with 1 Axes>"
      ]
     },
     "metadata": {},
     "output_type": "display_data"
    }
   ],
   "source": [
    "for key,val in results.items():\n",
    "    plt.plot(val,label = key)\n",
    "    plt.legend()\n",
    "    plt.xlabel(\"Iteration\")\n",
    "    plt.ylabel(\"count\")\n",
    "    "
   ]
  },
  {
   "cell_type": "code",
   "execution_count": null,
   "id": "176b49e0-4010-45d6-883a-1489eb647ef6",
   "metadata": {},
   "outputs": [],
   "source": []
  },
  {
   "cell_type": "code",
   "execution_count": null,
   "id": "88adc45c-4227-4e93-84c5-c9d363edf585",
   "metadata": {},
   "outputs": [],
   "source": []
  },
  {
   "cell_type": "code",
   "execution_count": null,
   "id": "397f95be-512d-427a-bb43-cbaafff538e6",
   "metadata": {},
   "outputs": [],
   "source": []
  },
  {
   "cell_type": "code",
   "execution_count": null,
   "id": "756208d6-4bb3-49bb-8d6e-9793458854a4",
   "metadata": {},
   "outputs": [],
   "source": []
  },
  {
   "cell_type": "code",
   "execution_count": null,
   "id": "2881e0fe-b426-495c-801e-29621697b9c7",
   "metadata": {},
   "outputs": [],
   "source": []
  },
  {
   "cell_type": "code",
   "execution_count": null,
   "id": "19a55f14-bffc-42d2-8ac9-c4747f7e91ea",
   "metadata": {},
   "outputs": [],
   "source": []
  },
  {
   "cell_type": "code",
   "execution_count": null,
   "id": "a6c6fe17-febe-45f4-8962-b0f4c4a55047",
   "metadata": {},
   "outputs": [],
   "source": []
  },
  {
   "cell_type": "code",
   "execution_count": null,
   "id": "1259727d-393b-407f-b62d-04d5f05d0f85",
   "metadata": {},
   "outputs": [],
   "source": []
  },
  {
   "cell_type": "code",
   "execution_count": null,
   "id": "0be2913f-a00a-4c0d-930b-257268a4bb22",
   "metadata": {},
   "outputs": [],
   "source": []
  },
  {
   "cell_type": "code",
   "execution_count": null,
   "id": "905297c4-bcda-443f-a06a-494fe1199ea3",
   "metadata": {},
   "outputs": [],
   "source": []
  },
  {
   "cell_type": "code",
   "execution_count": null,
   "id": "0ffa9b13-6485-475e-80c1-e23387d76968",
   "metadata": {},
   "outputs": [],
   "source": []
  },
  {
   "cell_type": "code",
   "execution_count": null,
   "id": "bf49e87d-c6c9-4ecb-91d9-39c243dd19ee",
   "metadata": {},
   "outputs": [],
   "source": []
  },
  {
   "cell_type": "code",
   "execution_count": null,
   "id": "1707cdd5-da0b-4522-bab7-7afd311db1ad",
   "metadata": {},
   "outputs": [],
   "source": []
  },
  {
   "cell_type": "code",
   "execution_count": null,
   "id": "5e9ffee2-dc51-4c84-bbf2-08dc49f2adc6",
   "metadata": {},
   "outputs": [],
   "source": []
  },
  {
   "cell_type": "code",
   "execution_count": null,
   "id": "90e940d2-a47b-42d8-a02a-57ad064f59c4",
   "metadata": {},
   "outputs": [],
   "source": []
  },
  {
   "cell_type": "code",
   "execution_count": null,
   "id": "ed77f790-4e41-479c-822c-b4e6f1caf855",
   "metadata": {},
   "outputs": [],
   "source": []
  },
  {
   "cell_type": "code",
   "execution_count": null,
   "id": "ef8e7946-4e99-463b-87e9-efef43217b6b",
   "metadata": {},
   "outputs": [],
   "source": []
  },
  {
   "cell_type": "code",
   "execution_count": null,
   "id": "0cb2e579-b0ec-4db3-8eda-2ca1b64954d2",
   "metadata": {},
   "outputs": [],
   "source": []
  }
 ],
 "metadata": {
  "kernelspec": {
   "display_name": "Python 3 (ipykernel)",
   "language": "python",
   "name": "python3"
  },
  "language_info": {
   "codemirror_mode": {
    "name": "ipython",
    "version": 3
   },
   "file_extension": ".py",
   "mimetype": "text/x-python",
   "name": "python",
   "nbconvert_exporter": "python",
   "pygments_lexer": "ipython3",
   "version": "3.8.10"
  }
 },
 "nbformat": 4,
 "nbformat_minor": 5
}
