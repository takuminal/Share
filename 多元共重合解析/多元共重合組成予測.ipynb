{
 "cells": [
  {
   "cell_type": "markdown",
   "id": "18697be3-468f-48e4-a426-66c456805466",
   "metadata": {},
   "source": [
    "## モンテカルロ法による共重合組成の数値的予測\n"
   ]
  },
  {
   "cell_type": "markdown",
   "id": "ecebbc75-8391-4750-bb31-5de7916a478d",
   "metadata": {},
   "source": [
    "\n",
    "[目次]  \n",
    "・概要  \n",
    "・共重合組成式  \n",
    "・Alfrey-PriceのQ,e-Scheme  \n",
    "・モンテカルロ法  \n",
    "・マルコフ連鎖  \n",
    "・マルコフ連鎖モンテカルロ法  \n",
    "・多元共重合組成の数値的解法"
   ]
  },
  {
   "cell_type": "markdown",
   "id": "b6740a33-ba76-4e6a-a518-599b12f1f049",
   "metadata": {},
   "source": [
    "概要\r\n",
    "\r\n",
    "高分子設計では、モノマーの投入比率が最終製品の物性に大きな影響を与えます。この投入比率は、連鎖重合による材料開発において重要な要素です。物性への影響は、モノマーの配合比によって線形に加わる場合もあればそうでない場合もあります。この違いの背後には、高分子の一次配列（シーケンス）の影響が考えられます。モノマーがポリマー鎖にどのように組み込まれるか、つまり均一かつランダムに導入されるかは、非常に重要な問いです。以下に具体例を示します。\r\n",
    "\r\n",
    "例えば、スチレン（St）とメチルメタクリレート（MMA）を50/50の比率で混合し、溶液系で攪拌しながらラジカル重合を行った場合を考えます。生成するポリマー鎖の配列は、NMRスペクトルによる連子解析を通じて以下のように推定されるかもしれません：\r\n",
    "\r\n",
    "MMA-MMA-St-MMA-St-St-St-MMA-MMA-St-St-MMA-St-St-MMA-St-MMA-St\r\n",
    "\r\n",
    "この配列からは、StとMMAが交互になることもあれば、同種のモノマーが連続して共重合することも観察されます。これはランダム共重合と呼ばれます。一方、スチレン（St）と無水マレイン酸（MAH）を組み合わせた共重合では、以下のようにモノマーが交互に付加することが知られています：\r\n",
    "\r\n",
    "St-MAH-St-MAH-St-MAH-St-MAH-St-MAH-St-MAH-St-MAH-St-MAH-St-MAH\r\n",
    "\r\n",
    "これは交互共重合体と呼ばれ、StラジカルがMAHモノマーに、MAHラジカルがStモノマーに選択的に付加することによるものです。この選択性は、モノマーとラジカル種の反応性（反応速度）が組み合わせによって異なるために生じます。"
   ]
  },
  {
   "cell_type": "markdown",
   "id": "257bf623-75f2-4149-bcc8-d98edfd4f2fb",
   "metadata": {},
   "source": [
    "### モノマーの反応性比と共重合様式の決定\n",
    "\n",
    "スチレン（St）/メチルメタクリレート（MMA）系とスチレン（St）/無水マレイン酸（MAH）系の一次構造の違いは、モノマーの反応性比によって説明されます。反応性比とは、2種類のモノマーAとBを共重合させた際、AからAへのホモ付加反応速度 kAAとAからBへのヘテロ付加反応速度kABの比率を示し、\n",
    "$$r_{AB} = \\frac{k_{AA}}{ k_{AB}}$$\n",
    "\n",
    " で表されます。この比率は、共重合する際のモノマーの振る舞いや生成するポリマーの構造を予測するのに役立ちます。反応性比の実測方法として、Fineman-Loss法が有名ですが、ここでは、反応性比を実測する方法ではなく、パラメータによる推定方法としてよく知られているAlfrey-PriceのQe-Schemeについて説明します。Qe-Schemeとは、モノマーの二重結合に対し、Q値とe値の2つの因子を仮定し、それらからモデル式に当てはめて反応速度定数を予測する方法です。Q値は二重結合の共鳴安定性に関する因子、e値は二重結合の電子吸引性に関する因子となります。$M_A$ラジカルと$M_B$モノマーの反応速度定数$k_{AB}$は次式で表されます。  \n",
    "\n",
    "$$M_A*\\ +\\ M_B\\ ->\\ M_A-M_B*$$\n",
    "$$k_{AB}=P_{A}Q_{B}exp(-e_{A}e_{B})$$\n",
    "\n",
    "反応速度はAラジカルの活性が高く、Bラジカルが安定であるほど早くなります。そして、付加するモノマー同士は電子供与性と電子吸引性の組み合わせ(ドナーとアクセプターの関係)であるほど早いことを意味します。\n",
    "\n",
    "### 反応速度から反応確率を導く\n",
    "Qe-Schemeにより任意のモノマーの反応速度が表現できることが分かりました。したがって反応性比もQe-Schemeにより表現できます。今回は反応性比と似た考え方で、反応確率を定義した。反応確率は、活性種が起こしうる全ての反応に対する、特定の反応が起こる確率として考える。例えばMiラジカルからMjモノマーへの付加反応確率$P(i,j)$について考えると、\n",
    "$$M_i*\\ +\\ M_i\\ ->\\ M_i-M_i*\\ \\ \\ \\ \\ \\ (1)$$\n",
    "$$M_i*\\ +\\ M_j\\ ->\\ M_i-M_j*\\ \\ \\ \\ \\ \\ (2)$$  \n",
    "\n",
    "の二つの反応が起こりえます。ここで、反応(1)の反応速度が反応(2)の反応速度の2倍だとすれば,(1)が起きる確率は66%,(2)が起きる確率は33%であると考えられます。\n",
    "つまり$M_A*$ラジカルが起こしうる付加反応速度全体に対する$M_B$モノマーへの付加反応速度$k_{AB}$の分率によって表現できる。 \n",
    "すなわち、\n",
    "\n",
    "$$P_{AB}=\\frac{R_{AB}}{R_{AB}+R_{AA}}$$  \n",
    "$$=\\frac{k_{AB}[M_{A}*][M_{B}]}{k_{AB}[M_{A}*][M_{B}]+k_{AA}[M_{A}*][M_{A}]} $$  \n",
    "$$=\\frac{k_{AB}[M_{B}]}{k_{AB}[M_{B}] + k_{AA}[M_{A}]} $$  \n",
    "\n",
    "ここで、Alflay-priceの式を用いて式を整理すると  \n",
    "\n",
    "$$=\\frac{[M_{B}]P_{B}Q_{A}exp(-e_{A}e_{A}) }{[M_{B}]P_{A}Q_{B}exp(-e_{A}e_{B})+[M_{A}]P_{A}Q_{A}exp(-e_{A}e_{A})}$$   \n",
    "$$=\\frac{[M_{B}]Q_{B}exp(-e_{A}e_{B}) }{[M_{B}]Q_{B}exp(-e_{B}e_{A})+[M_{A}]Q_{A}exp(-e_{A}e_{A})}$$  \n",
    "\n",
    "### 多元共重合への拡張  \n",
    "上記の例は二種類のモノマー間の関係です。つまりに二元共重合における反応を考えます。一方で、実際には多数のモノマーを組み合わせて重合を行う場合が多く、そのような重合系のモノマー消費挙動を表現するには、上記の反応性比の概念を拡張して利用する必要があります。今、N種のモノマー$M_1$,$M_2$...$M_i$...$M_j$...$M_n$を共重合させた系における、ラジカル$M_A*$からモノマー$M_B$へのラジカル付加反応  \n",
    "\n",
    "$$M_i*\\ +\\ M_j\\ ->\\ M_i-M_j*$$  \n",
    "\n",
    "の反応確率を$P(ij)$とすると、\n",
    "\n",
    "$$\n",
    "P(ij)= \\frac{[M_{j}]Q_{j}exp(-e_{i}e_{j}) }{\\sum_{k=1}^n [M_{i}]Q_{i}exp(-e_{i}e_{k})}\n",
    "$$\n",
    "\n",
    "によって、ラジカル種とモノマー種の組み合わせで反応確率が決定されます。\n",
    "ラジカル種により、付加するモノマー種の反応確率分布が決定されますが、反応後にはまたラジカル種が変わり、反応が起きる確率分布が変わります。\n",
    "\n"
   ]
  },
  {
   "cell_type": "markdown",
   "id": "a4798fb8-4684-4d25-91f0-65e432c959ef",
   "metadata": {},
   "source": [
    "高分子末端にモノマーが順次反応していき、末端の活性種が遷移する際の、遷移確率行列は、\n",
    "\n",
    "\\begin{equation}\r\n",
    "T = \\begin{bmatrix}\r\n",
    "P_{11} & P_{12} & \\cdots & P_{1n} \\\\\r\n",
    "P_{21} & P_{22} & \\cdots & P_{2n} \\\\\r\n",
    "\\vdots & \\vdots & \\ddots & \\vdots \\\\\r\n",
    "P_{n1} & P_{n2} & \\cdots & P_{nn}\r\n",
    "\\end{bmatrix}\r\n",
    "\\end{equation}\r\n",
    "\n",
    "\n"
   ]
  },
  {
   "cell_type": "markdown",
   "id": "c5f859ad-fffa-48fc-b013-bbeba7152b45",
   "metadata": {},
   "source": [
    "## モンテカルロ法\n",
    "モンテカルロ法は、一様乱数の生成による試行を繰り返すことで確率分布の数値解の導出を行う手法である。確率分布を解析的に得ることが困難な事象に対して強力なツールです。簡単に言えば、実際の現象に近い確率密度分布を持つ「ひずんださいころ」を何度も投げることで、統計的データを生成し、現象を再現する事です。重合における、反応確率の分布は、"
   ]
  },
  {
   "cell_type": "code",
   "execution_count": 83,
   "id": "223a7add-28c2-4fb4-bf16-f3e762c54bb0",
   "metadata": {},
   "outputs": [
    {
     "data": {
      "text/plain": [
       "array([[0.52996405, 0.47003595],\n",
       "       [0.53991488, 0.46008512]])"
      ]
     },
     "execution_count": 83,
     "metadata": {},
     "output_type": "execute_result"
    }
   ],
   "source": [
    "import numpy as np\n",
    "\n",
    "#モノマー1の濃度m,Q値,e値\n",
    "m1 = 0.5\n",
    "Q1 = 1.0\n",
    "e1 = -0.6\n",
    "\n",
    "#モノマー2の濃度m,Q値,e値\n",
    "m2 = 0.5\n",
    "Q2 = 1.0\n",
    "e2 = -0.8\n",
    "\n",
    "#事前濃度ベクトル\n",
    "M= np.array([m1,m2])\n",
    "Q = [m1,m2]\n",
    "e = [e1,e2]\n",
    "\n",
    "\n",
    "#反応確率を導出する関数\n",
    "\n",
    "def react_prob(M,Q,e):\n",
    "\n",
    "    #iはラジカル種のindex\n",
    "    col=[]\n",
    "    for i in range(len(M)): \n",
    "        #jは付加するモノマー種のindex\n",
    "        row=[]\n",
    "        for j in range(len(M)):\n",
    "            bunsi=  M[j]*Q[j]*np.exp(-e[i]*e[j])\n",
    "            bunbo_sum=0\n",
    "            #kは合計する為だけのもの\n",
    "            for k in range(len(M)):   \n",
    "                bunbo_sum += M[k]*Q[k]*np.exp(-e[i]*e[k])\n",
    "            P_ij = bunsi/bunbo_sum\n",
    "            row.append(P_ij)\n",
    "        col.append(row)\n",
    "    return np.array(col)\n",
    "                \n",
    "        \n",
    "\n",
    "#遷移確率行列\n",
    "react_prob(M,Q,e)"
   ]
  },
  {
   "cell_type": "code",
   "execution_count": 40,
   "id": "0dd36d47-c8d7-4657-8c98-ca14f2ad8c03",
   "metadata": {},
   "outputs": [],
   "source": [
    "def montecalro_dice(react_prob,monomer_conc):\n",
    "\n",
    "    #react_probを1行ごとに処理していく\n",
    "    for n,elem in enumerate(react_prob):\n",
    "        #0~1の一様乱数を生成\n",
    "        random_number=np.random.random()     \n",
    "        #列ごとの乱数の該非判定\n",
    "        #判定しきい値の初期化\n",
    "        threshold=0\n",
    "        for m,elem2 in enumerate(elem):\n",
    "            #しきい値の更新\n",
    "            threshold += elem2\n",
    "            if random_number <= threshold:\n",
    "                # 該当したら1カウント減らす。\n",
    "                monomer_conc[n][m] -= 1\n",
    "                break\n",
    "    return monomer_conc"
   ]
  },
  {
   "cell_type": "code",
   "execution_count": 41,
   "id": "965b77ab-e53e-49fa-a286-28e98d0be524",
   "metadata": {},
   "outputs": [],
   "source": [
    "#初期値\n",
    "T = react_prob(M,Q,e)\n",
    "C = np.ones(T.shape)*50\n",
    "conc_log = []\n"
   ]
  },
  {
   "cell_type": "code",
   "execution_count": 42,
   "id": "fc358031-4729-447e-b22e-99bda7291dd7",
   "metadata": {},
   "outputs": [],
   "source": [
    "for iteration in range(50):\n",
    "    montecalro_dice(T,C)\n",
    "    C = montecalro_dice(T,C)\n",
    "    conc_log.append(np.sum(C,axis=0))"
   ]
  },
  {
   "cell_type": "code",
   "execution_count": 59,
   "id": "f21bc5b8-0049-4bf8-8c4d-1423289b6401",
   "metadata": {},
   "outputs": [
    {
     "data": {
      "text/html": [
       "<div>\n",
       "<style scoped>\n",
       "    .dataframe tbody tr th:only-of-type {\n",
       "        vertical-align: middle;\n",
       "    }\n",
       "\n",
       "    .dataframe tbody tr th {\n",
       "        vertical-align: top;\n",
       "    }\n",
       "\n",
       "    .dataframe thead th {\n",
       "        text-align: right;\n",
       "    }\n",
       "</style>\n",
       "<table border=\"1\" class=\"dataframe\">\n",
       "  <thead>\n",
       "    <tr style=\"text-align: right;\">\n",
       "      <th></th>\n",
       "      <th>Monomer</th>\n",
       "      <th>Q</th>\n",
       "      <th>e</th>\n",
       "      <th>MW</th>\n",
       "    </tr>\n",
       "  </thead>\n",
       "  <tbody>\n",
       "    <tr>\n",
       "      <th>0</th>\n",
       "      <td>Acenaphthylene</td>\n",
       "      <td>0.720</td>\n",
       "      <td>-1.88</td>\n",
       "      <td>NaN</td>\n",
       "    </tr>\n",
       "    <tr>\n",
       "      <th>1</th>\n",
       "      <td>Acetylene, phenyl</td>\n",
       "      <td>0.450</td>\n",
       "      <td>0.10</td>\n",
       "      <td>NaN</td>\n",
       "    </tr>\n",
       "    <tr>\n",
       "      <th>2</th>\n",
       "      <td>Aconitate, trimethyl</td>\n",
       "      <td>0.250</td>\n",
       "      <td>2.27</td>\n",
       "      <td>NaN</td>\n",
       "    </tr>\n",
       "    <tr>\n",
       "      <th>3</th>\n",
       "      <td>Acrolein</td>\n",
       "      <td>0.800</td>\n",
       "      <td>1.31</td>\n",
       "      <td>56.064</td>\n",
       "    </tr>\n",
       "    <tr>\n",
       "      <th>4</th>\n",
       "      <td>Acrolein, methyl</td>\n",
       "      <td>1.830</td>\n",
       "      <td>0.71</td>\n",
       "      <td>NaN</td>\n",
       "    </tr>\n",
       "    <tr>\n",
       "      <th>...</th>\n",
       "      <td>...</td>\n",
       "      <td>...</td>\n",
       "      <td>...</td>\n",
       "      <td>...</td>\n",
       "    </tr>\n",
       "    <tr>\n",
       "      <th>104</th>\n",
       "      <td>Vinyl dodecyl ether</td>\n",
       "      <td>0.041</td>\n",
       "      <td>-1.69</td>\n",
       "      <td>NaN</td>\n",
       "    </tr>\n",
       "    <tr>\n",
       "      <th>105</th>\n",
       "      <td>Vinylene carbonate</td>\n",
       "      <td>0.040</td>\n",
       "      <td>-0.49</td>\n",
       "      <td>NaN</td>\n",
       "    </tr>\n",
       "    <tr>\n",
       "      <th>106</th>\n",
       "      <td>Vinyl ethyl ether</td>\n",
       "      <td>0.018</td>\n",
       "      <td>-1.80</td>\n",
       "      <td>NaN</td>\n",
       "    </tr>\n",
       "    <tr>\n",
       "      <th>107</th>\n",
       "      <td>Vinyl ethyl oxalate</td>\n",
       "      <td>0.056</td>\n",
       "      <td>-0.65</td>\n",
       "      <td>NaN</td>\n",
       "    </tr>\n",
       "    <tr>\n",
       "      <th>108</th>\n",
       "      <td>Vinyl ethyl sulfide</td>\n",
       "      <td>0.270</td>\n",
       "      <td>-1.31</td>\n",
       "      <td>NaN</td>\n",
       "    </tr>\n",
       "  </tbody>\n",
       "</table>\n",
       "<p>109 rows × 4 columns</p>\n",
       "</div>"
      ],
      "text/plain": [
       "                 Monomer       Q     e      MW\n",
       "0          Acenaphthylene  0.720 -1.88     NaN\n",
       "1       Acetylene, phenyl  0.450  0.10     NaN\n",
       "2    Aconitate, trimethyl  0.250  2.27     NaN\n",
       "3                Acrolein  0.800  1.31  56.064\n",
       "4        Acrolein, methyl  1.830  0.71     NaN\n",
       "..                    ...    ...   ...     ...\n",
       "104   Vinyl dodecyl ether  0.041 -1.69     NaN\n",
       "105    Vinylene carbonate  0.040 -0.49     NaN\n",
       "106     Vinyl ethyl ether  0.018 -1.80     NaN\n",
       "107   Vinyl ethyl oxalate  0.056 -0.65     NaN\n",
       "108   Vinyl ethyl sulfide  0.270 -1.31     NaN\n",
       "\n",
       "[109 rows x 4 columns]"
      ]
     },
     "execution_count": 59,
     "metadata": {},
     "output_type": "execute_result"
    }
   ],
   "source": [
    "import pandas as pd\n",
    "df = pd.read_csv(\"data/test.csv\")\n",
    "df"
   ]
  },
  {
   "cell_type": "code",
   "execution_count": 60,
   "id": "79a0080f-57df-46ce-a53b-229eea0b4ab8",
   "metadata": {},
   "outputs": [],
   "source": [
    "# df['Monomer'] を反復処理\n",
    "for n in range(len(df)):\n",
    "    # カンマで分割\n",
    "    words = df.loc[n, 'Monomer '].split(', ')\n",
    "    # 順序を入れ替えて結合\n",
    "    reversed_text = ' '.join(words[::-1])\n",
    "    # 編集された値をDataFrameに設定\n",
    "    df.loc[n, 'Monomer '] = reversed_text\n"
   ]
  },
  {
   "cell_type": "code",
   "execution_count": 75,
   "id": "3aada150-ca3f-453a-b92e-bc49b1d2df41",
   "metadata": {},
   "outputs": [],
   "source": [
    "#モノマー名からdfを参照し、Q,e値を取得\n",
    "def get_data(monomer_name):\n",
    "    import pandas as pd\n",
    "    df = pd.read_csv(\"Qe_value.csv\")\n",
    "    Q = df.loc[df['Monomer '] == monomer_name, 'Q'].values[0]\n",
    "    e = df.loc[df['Monomer '] == monomer_name, 'e'].values[0]\n",
    "    return Q,e"
   ]
  },
  {
   "cell_type": "code",
   "execution_count": 87,
   "id": "72e3c65b-58f2-4cb7-970b-413c9308234e",
   "metadata": {},
   "outputs": [],
   "source": [
    "#反応に用いるモノマー名のリスト\n",
    "ls = [\"benzyl Acrylate\",\n",
    "      \"butyl Acrylate\",\n",
    "      \"2-chloroethyl Acrylate\",\n",
    "      \"methyl α-chloro- Acrylate\",\n",
    "      \"methyl α-cyano- Acrylate\",\n",
    "      \"ethyl Acrylate\",\n",
    "      \"methyl Acrylate\"]\n",
    "ls_mol  = [ 10 for _ in range(len(ls))]"
   ]
  },
  {
   "cell_type": "code",
   "execution_count": 88,
   "id": "56ad752c-5442-47cf-b7f2-4756f46e6aa4",
   "metadata": {},
   "outputs": [],
   "source": [
    "#dfを参照し、Q、e値のリストを取得\n",
    "Q_arr,e_arr=[],[]\n",
    "\n",
    "for elem in ls:\n",
    "    Q,e = get_data(elem)\n",
    "    Q_arr.append(Q)\n",
    "    e_arr.append(e)    "
   ]
  },
  {
   "cell_type": "code",
   "execution_count": 89,
   "id": "25260f26-9a80-4727-89ce-376281c46ad5",
   "metadata": {},
   "outputs": [
    {
     "data": {
      "text/plain": [
       "array([[0.02180382, 0.03445188, 0.03624849, 0.38762519, 0.4159735 ,\n",
       "        0.05217219, 0.05172493],\n",
       "       [0.02474759, 0.03615469, 0.04000645, 0.35364089, 0.443929  ,\n",
       "        0.05033963, 0.05118175],\n",
       "       [0.02282793, 0.03507412, 0.03757345, 0.37537998, 0.42603499,\n",
       "        0.0515447 , 0.05156483],\n",
       "       [0.03058719, 0.03884812, 0.04703509, 0.29593359, 0.49152744,\n",
       "        0.04655553, 0.04951304],\n",
       "       [0.02409684, 0.03580041, 0.0391889 , 0.36084   , 0.43799931,\n",
       "        0.05075171, 0.05132283],\n",
       "       [0.02816284, 0.03782922, 0.04418194, 0.3184792 , 0.47292644,\n",
       "        0.0481378 , 0.05028256],\n",
       "       [0.02711017, 0.03734457, 0.04291501, 0.32887005, 0.46435315,\n",
       "        0.04882162, 0.05058544]])"
      ]
     },
     "execution_count": 89,
     "metadata": {},
     "output_type": "execute_result"
    }
   ],
   "source": [
    "react_prob(ls_mol,Q_arr,e_arr)"
   ]
  },
  {
   "cell_type": "code",
   "execution_count": null,
   "id": "499e589b-9041-40c5-a3b4-39ed3f0164da",
   "metadata": {},
   "outputs": [],
   "source": []
  }
 ],
 "metadata": {
  "kernelspec": {
   "display_name": "Python 3 (ipykernel)",
   "language": "python",
   "name": "python3"
  },
  "language_info": {
   "codemirror_mode": {
    "name": "ipython",
    "version": 3
   },
   "file_extension": ".py",
   "mimetype": "text/x-python",
   "name": "python",
   "nbconvert_exporter": "python",
   "pygments_lexer": "ipython3",
   "version": "3.8.10"
  }
 },
 "nbformat": 4,
 "nbformat_minor": 5
}
