{
 "cells": [
  {
   "cell_type": "code",
   "execution_count": 4,
   "id": "72fc006c-8cf7-4aa6-935f-eb8778af3a03",
   "metadata": {},
   "outputs": [],
   "source": [
    "from modules import function\n",
    "from modules import reactions"
   ]
  },
  {
   "cell_type": "code",
   "execution_count": 10,
   "id": "413aa8bf-185f-4d29-a5bc-a738fb3c4a13",
   "metadata": {},
   "outputs": [],
   "source": [
    "def polymer_volume(monomer_smiles,dp):\n",
    "    \n",
    "    smiles_list = [monomer_smiles]*dp\n",
    "    polymer_smiles = reactions.Polymerization(smiles_list)[0]\n",
    "    polymer_sp=function.Krevelen_sp(polymer_smiles)\n",
    "    return polymer_sp.vol\n"
   ]
  },
  {
   "cell_type": "markdown",
   "id": "85665f91-76e1-4ba0-ad5e-227e556d8e9d",
   "metadata": {},
   "source": [
    "ポリマー1ユニット当たりの分子体積<モノマーの分子体積\n",
    "\n",
    "30量体までの分子を生成し、分子力場計算(ETKDG法)により分子のコンホメーションを最適化計算し、\n",
    "その構造からモル体積を計算した。この手法により計算されたPMMAは重合度に対して線形に分子体積が大きくなったが、\n",
    "単純なモノマーの分子体積の和ではなく、それよりも小さな値をとった。重合による分子の拘束が、分子体積の低下に影響しているとみられる。モノマーの分子体積和とポリマーの分子体積の差を、重合度nで標準化した値を、付加反応単位での体積減少への寄与$(C_{p})$とすると、\n",
    "\n",
    "\n",
    "$C_{p}=(1/n)\\cdot(\\sum_{i=1}^n{V_{M(i)}} - V_{P(n)})$\n",
    "\n",
    "Cpが意味するのは、モル単位での反応における、モル体積収縮への寄与である。重合前後の体積収縮率が既知のモノマー10種類について、重合度ごとの高分子のSMILESを生成し、それらに対して分子力場計算によるモル体積を見積もった。この結果で得られた計算上の高分子モル体積Vpに対し、重合に使用されたモノマーモル体積Vm(ETKDGによる推算値)の和との差を重合度で標準化したCpは、nが大きくなるにつれて一定の値に収束する傾向が見られた。\n",
    "\n",
    "モノマー種によって若干の違いはあれど、おおよそCpは10 ~ 14(cm3/mol)程度の寄与がある。すなわち1molのモノマーが全て反応した場合、10 ~ 14㎝3分の体積が減少する。"
   ]
  },
  {
   "cell_type": "markdown",
   "id": "5bc8b107-9abb-4c93-a36b-015a84349e54",
   "metadata": {},
   "source": [
    "MMAの重合(n=1~31,step5)の条件で計算したCpは、1量体を除いておおむね重合度依存性が低く、一定であると考えられる。"
   ]
  },
  {
   "cell_type": "code",
   "execution_count": 63,
   "id": "7fb9841a-95c7-4e7f-9a5f-c29182f79a60",
   "metadata": {},
   "outputs": [],
   "source": [
    "\n",
    "def Calc_Cp(smiles,dp):\n",
    "    import numpy as np\n",
    "    #MMA\n",
    "    \n",
    "    n = np.array([i for i in range(1,dp)])\n",
    "    Vp = np.array([polymer_volume(smiles,i) for i in range(1,dp)])\n",
    "    Vm_sum =np.array([i*polymer_volume(smiles,1) for i in range(1,dp)])\n",
    "\n",
    "    return [n,Vp,Vm_sum]"
   ]
  },
  {
   "cell_type": "code",
   "execution_count": null,
   "id": "c3d6a14a-b0e1-406c-a4c2-201f469d0e00",
   "metadata": {},
   "outputs": [],
   "source": [
    "pe = Calc_Cp(\"C=C\",10)\n",
    "pan = Calc_Cp(\"C=CC#N\",10)\n",
    "pvc = Calc_Cp(\"C=CCl\",10)\n",
    "pman = Calc_Cp(\"C=C(C)C#N\",10)\n",
    "pvac = Calc_Cp(\"C=CCOC(=O)C\",10)\n",
    "pvc2 = Calc_Cp(\"C=C(Cl)Cl\",10)\n",
    "pmma = Calc_Cp(\"C=C(C)C(=O)OC\",10)\n",
    "ps = Calc_Cp(\"C=Cc1ccccc1\",10)\n",
    "pema = Calc_Cp(\"C=C(C)C(=O)OCC\",10)\n",
    "pbma = Calc_Cp(\"C=C(C)C(=O)OCCCC\",5)"
   ]
  },
  {
   "cell_type": "code",
   "execution_count": null,
   "id": "7102fd9f-b8d4-4220-b2b2-c7fe5a136eb2",
   "metadata": {},
   "outputs": [],
   "source": [
    "polymer_cp_ls = {\"PE\":pe,\"PAN\":pan,\"PVC\":pvc,\"PMAN\":pman,\"PVAc\":pvac,\"PVC2\":pvc2,\"PMMA\":pmma,\"PS\":ps,\"PEMA\":pema,\"PBMA\":pbma}\n",
    "polymer_cp_ls"
   ]
  },
  {
   "cell_type": "code",
   "execution_count": null,
   "id": "63a8fd5d-d95e-4725-8eb4-490f16bfa404",
   "metadata": {},
   "outputs": [],
   "source": [
    "\n",
    "import matplotlib.pyplot as plt\n",
    "fig = plt.figure(figsize=(5,3))\n",
    "\n",
    "for key,value in polymer_cp_ls.items():\n",
    "    n,v_p,v_m_sum = value\n",
    "    Cp = (v_m_sum-v_p)/n\n",
    "    plt.plot(n,Cp)\n",
    "plt.xlim(0,15)    \n",
    "plt.xlabel(\"Degree of Polymerization\")\n",
    "plt.ylabel(\"Cp(g/mol)\")    \n",
    "plt.legend(polymer_cp_ls.keys())"
   ]
  },
  {
   "cell_type": "code",
   "execution_count": null,
   "id": "7feb8f30-bd13-4579-a432-7e1bdce46501",
   "metadata": {},
   "outputs": [],
   "source": [
    "exp_polym_shrink = {\"PE\":0.66,\n",
    "                 \"PAN\":0.31,\n",
    "                 \"PVC\":0.34,\n",
    "                 \"PMAN\":0.27,\n",
    "                 \"PVAc\":0.209,\n",
    "                 \"PVC2\":0.287,\n",
    "                 \"PMMA\":0.212,\n",
    "                 \"PS\":0.145,\n",
    "                 \"PEMA\":0.178,\n",
    "                 \"PBMA\":0.143}\n"
   ]
  },
  {
   "cell_type": "code",
   "execution_count": null,
   "id": "f0b977c5-e3ee-4dc5-8d56-bbf7effd7709",
   "metadata": {},
   "outputs": [],
   "source": [
    "#収縮率\n",
    "import matplotlib.pyplot as plt\n",
    "fig = plt.figure(figsize=(5,3))\n",
    "\n",
    "for key,value in polymer_cp_ls.items():\n",
    "    n,v_p,v_m_sum = value\n",
    "    Ds = v_p/v_m_sum\n",
    "    plt.plot(n,Ds)\n",
    "plt.xlim(0,15)    \n",
    "plt.xlabel(\"Degree of Polymerization\")\n",
    "plt.ylabel(\"Shrinkage factor\")    \n",
    "plt.legend(polymer_cp_ls.keys())"
   ]
  },
  {
   "cell_type": "code",
   "execution_count": 85,
   "id": "4566aa42-5442-41f1-b7fb-0346f39a3ab4",
   "metadata": {},
   "outputs": [],
   "source": [
    "import pandas as pd\n",
    "df = pd.DataFrame(polymer_cp_ls)"
   ]
  },
  {
   "cell_type": "code",
   "execution_count": 86,
   "id": "4ad5861b-5b44-4f24-a5af-f10e03a0ad92",
   "metadata": {},
   "outputs": [],
   "source": [
    "name = list(polymer_cp_ls.keys())\n",
    "dp =  list(polymer_cp_ls.values())\n",
    "Vp = pd.DataFrame([polymer_cp_ls[elem][1] for elem in name],index=name,columns = dp[0][0])\n",
    "Vm_sum = pd.DataFrame([polymer_cp_ls[elem][2] for elem in name],index=name,columns = dp[0][0])\n"
   ]
  },
  {
   "cell_type": "code",
   "execution_count": 88,
   "id": "8c25fe5e-babe-40ab-b302-0c737a554748",
   "metadata": {},
   "outputs": [],
   "source": [
    "Vp.to_csv(\"CSV/MM_shrinkage_vp.csv\")\n",
    "Vm_sum.to_csv(\"CSV/MM_shrinkage_vm_sum.csv\")"
   ]
  },
  {
   "cell_type": "code",
   "execution_count": 133,
   "id": "35f62dd0-9fd0-4b89-889d-5f81eabd2105",
   "metadata": {},
   "outputs": [],
   "source": [
    "x = list(exp_polym_shrink.values())\n",
    "y =1- Vp.loc[:,9].to_numpy()/Vm_sum.loc[:,9].to_numpy()\n",
    "y2 =1- Vp.loc[:,5].to_numpy()/Vm_sum.loc[:,5].to_numpy()"
   ]
  },
  {
   "cell_type": "code",
   "execution_count": 134,
   "id": "fbf40919-a0ac-4307-a505-72afdc5890aa",
   "metadata": {},
   "outputs": [
    {
     "data": {
      "text/plain": [
       "[<matplotlib.lines.Line2D at 0x20cfe6c6b80>]"
      ]
     },
     "execution_count": 134,
     "metadata": {},
     "output_type": "execute_result"
    },
    {
     "data": {
      "image/png": "[encoded data removed]",
      "text/plain": [
       "<Figure size 640x480 with 1 Axes>"
      ]
     },
     "metadata": {},
     "output_type": "display_data"
    }
   ],
   "source": [
    "plt.scatter(x,y)\n",
    "plt.scatter(x,y2)\n",
    "\n",
    "plt.plot(x,x)"
   ]
  },
  {
   "cell_type": "code",
   "execution_count": null,
   "id": "36ed0634-41b2-4f56-a346-c1e3471d18e9",
   "metadata": {},
   "outputs": [],
   "source": []
  }
 ],
 "metadata": {
  "kernelspec": {
   "display_name": "Python 3 (ipykernel)",
   "language": "python",
   "name": "python3"
  },
  "language_info": {
   "codemirror_mode": {
    "name": "ipython",
    "version": 3
   },
   "file_extension": ".py",
   "mimetype": "text/x-python",
   "name": "python",
   "nbconvert_exporter": "python",
   "pygments_lexer": "ipython3",
   "version": "3.8.10"
  }
 },
 "nbformat": 4,
 "nbformat_minor": 5
}
