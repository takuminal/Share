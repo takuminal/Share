{
 "cells": [
  {
   "cell_type": "code",
   "execution_count": 3,
   "id": "5c307fa6-b404-490c-9f47-1459d633513f",
   "metadata": {},
   "outputs": [],
   "source": [
    "import flet as ft\n",
    "\n",
    "def main(page: ft.Page):\n",
    "\n",
    "    #全体のレイアウト\n",
    "    \n",
    "    #テキスト\n",
    "    text = ft.Text(value=\"Hello, world!\")\n",
    "    page.add(text)\n",
    "    \n",
    "    #ボタン\n",
    "    btn = ft.ElevatedButton(\"Click me!\")\n",
    "    page.add(btn)\n",
    "    \n",
    "    #InputBox\n",
    "    input = ft.TextField(width=300,\n",
    "                         label=\"Your name\")\n",
    "    page.add(input)\n",
    "\n",
    "    #CheckBox\n",
    "    check = ft.Checkbox(label=\"Check Box\", value=False)\n",
    "    page.add(check)\n",
    "\n",
    "    #ListBox\n",
    "    color_list=[\"Red\",\"Green\",\"Blue\",\"White\"]\n",
    "    color_dropdown = ft.Dropdown(width=300,\n",
    "                                 options=[ft.dropdown.Option(elem) \n",
    "                                          for elem in color_list],\n",
    "                                )\n",
    "    page.add(color_dropdown)\n",
    "\n",
    "\n",
    "\n",
    "\n",
    "ft.app(target=main)"
   ]
  },
  {
   "cell_type": "code",
   "execution_count": 4,
   "id": "153ea04b-da9f-4ade-8528-ddf7d7aa2b6f",
   "metadata": {},
   "outputs": [],
   "source": [
    "import flet as ft\n",
    "\n",
    "def main(page: ft.Page):\n",
    "    page.title = \"Images Example\"\n",
    "    page.theme_mode = ft.ThemeMode.LIGHT\n",
    "    page.padding = 50\n",
    "    page.update()\n",
    "\n",
    "    img = ft.Image(\n",
    "        src=f\"/icons/icon-512.png\",\n",
    "        width=100,\n",
    "        height=100,\n",
    "        fit=ft.ImageFit.CONTAIN,\n",
    "    )\n",
    "    images = ft.Row(expand=1, wrap=False, scroll=\"always\")\n",
    "\n",
    "    page.add(img, images)\n",
    "\n",
    "    for i in range(0, 30):\n",
    "        images.controls.append(\n",
    "            ft.Image(\n",
    "                src=f\"https://picsum.photos/200/200?{i}\",\n",
    "                width=200,\n",
    "                height=200,\n",
    "                fit=ft.ImageFit.NONE,\n",
    "                repeat=ft.ImageRepeat.NO_REPEAT,\n",
    "                border_radius=ft.border_radius.all(10),\n",
    "            )\n",
    "        )\n",
    "    page.update()\n",
    "\n",
    "ft.app(target=main)"
   ]
  },
  {
   "cell_type": "code",
   "execution_count": null,
   "id": "60eff7af-d23a-4e33-b038-a617b655efb7",
   "metadata": {},
   "outputs": [],
   "source": []
  }
 ],
 "metadata": {
  "kernelspec": {
   "display_name": "Python 3 (ipykernel)",
   "language": "python",
   "name": "python3"
  },
  "language_info": {
   "codemirror_mode": {
    "name": "ipython",
    "version": 3
   },
   "file_extension": ".py",
   "mimetype": "text/x-python",
   "name": "python",
   "nbconvert_exporter": "python",
   "pygments_lexer": "ipython3",
   "version": "3.8.10"
  }
 },
 "nbformat": 4,
 "nbformat_minor": 5
}
