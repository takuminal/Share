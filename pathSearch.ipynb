{
 "cells": [
  {
   "cell_type": "code",
   "execution_count": 1,
   "id": "9c9e23da-71e4-46cf-a831-f51933c978e9",
   "metadata": {},
   "outputs": [
    {
     "name": "stdout",
     "output_type": "stream",
     "text": [
      "jupyter-lab.exe ファイルのパス: C:\\Users\\TAKUMI\\.venv\\Scripts\\jupyter-lab.exe\n"
     ]
    }
   ],
   "source": [
    "import os\n",
    "\n",
    "# ファイル名\n",
    "exe_filename = \"jupyter-lab.exe\"\n",
    "\n",
    "# システムのPATHを分割\n",
    "path_dirs = os.environ[\"PATH\"].split(os.pathsep)\n",
    "\n",
    "# PATH内の各ディレクトリを探索してファイルのパスを検索\n",
    "jupyter_lab_path = None\n",
    "for path_dir in path_dirs:\n",
    "    exe_path = os.path.join(path_dir, exe_filename)\n",
    "    if os.path.exists(exe_path):\n",
    "        jupyter_lab_path = exe_path\n",
    "        break\n",
    "\n",
    "if jupyter_lab_path:\n",
    "    print(\"jupyter-lab.exe ファイルのパス:\", jupyter_lab_path)\n",
    "else:\n",
    "    print(\"jupyter-lab.exe ファイルが見つかりませんでした。\")\n"
   ]
  },
  {
   "cell_type": "code",
   "execution_count": null,
   "id": "518b578d-503e-4d23-a783-d787f2a2314e",
   "metadata": {},
   "outputs": [],
   "source": []
  }
 ],
 "metadata": {
  "kernelspec": {
   "display_name": "Python 3 (ipykernel)",
   "language": "python",
   "name": "python3"
  },
  "language_info": {
   "codemirror_mode": {
    "name": "ipython",
    "version": 3
   },
   "file_extension": ".py",
   "mimetype": "text/x-python",
   "name": "python",
   "nbconvert_exporter": "python",
   "pygments_lexer": "ipython3",
   "version": "3.8.10"
  }
 },
 "nbformat": 4,
 "nbformat_minor": 5
}
