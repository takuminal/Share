{
 "cells": [
  {
   "cell_type": "code",
   "execution_count": 1,
   "id": "67c47a27-b954-4fc1-a091-45f0f4de41f6",
   "metadata": {},
   "outputs": [],
   "source": [
    "import flet as ft\n",
    "\n",
    "def main(page: ft.Page):\n",
    "    page.title = \"Flet counter ex\"\n",
    "    page.vertical_alignment = ft.MainAxisAlignment.CENTER\n",
    "\n",
    "    txt_number = ft.TextField(value=\"0\", text_align=ft.TextAlign.RIGHT, width=200)\n",
    "\n",
    "    def minus_click(e):\n",
    "        txt_number.value = str(int(txt_number.value) - 1)\n",
    "        page.update()\n",
    "\n",
    "    def plus_click(e):\n",
    "        txt_number.value = str(int(txt_number.value) + 1)\n",
    "        page.update()\n",
    "\n",
    "    page.add(\n",
    "        ft.Row(\n",
    "            [\n",
    "                ft.IconButton(ft.icons.REMOVE, on_click=minus_click),\n",
    "                txt_number,\n",
    "                ft.IconButton(ft.icons.ADD, on_click=plus_click),\n",
    "            ],\n",
    "            alignment=ft.MainAxisAlignment.CENTER,\n",
    "        )\n",
    "    )\n",
    "\n",
    "ft.app(target=main)"
   ]
  },
  {
   "cell_type": "code",
   "execution_count": null,
   "id": "53a76e98-b0a1-4385-928d-fc8ff6afd49b",
   "metadata": {},
   "outputs": [],
   "source": [
    "import flet as ft\n",
    "\n",
    "def main(page: ft.Page):\n",
    "    chat = ft.Column()\n",
    "    new_message = ft.TextField()\n",
    "\n",
    "    def send_click(e):\n",
    "        chat.controls.append(ft.Text(new_message.value))\n",
    "        new_message.value = \"\"\n",
    "        page.update()\n",
    "\n",
    "    page.add(\n",
    "        chat, ft.Row(controls=[new_message, ft.ElevatedButton(\"Send\", on_click=send_click)])\n",
    "    )\n",
    "\n",
    "ft.app(main, view=ft.AppView.WEB_BROWSER)"
   ]
  },
  {
   "cell_type": "code",
   "execution_count": null,
   "id": "349461b3-7010-4a8d-9ac9-323626936172",
   "metadata": {},
   "outputs": [],
   "source": []
  },
  {
   "cell_type": "code",
   "execution_count": null,
   "id": "1f7256df-eb7d-4aa5-936f-b4868fc84236",
   "metadata": {},
   "outputs": [],
   "source": []
  }
 ],
 "metadata": {
  "kernelspec": {
   "display_name": "Python 3 (ipykernel)",
   "language": "python",
   "name": "python3"
  },
  "language_info": {
   "codemirror_mode": {
    "name": "ipython",
    "version": 3
   },
   "file_extension": ".py",
   "mimetype": "text/x-python",
   "name": "python",
   "nbconvert_exporter": "python",
   "pygments_lexer": "ipython3",
   "version": "3.8.10"
  }
 },
 "nbformat": 4,
 "nbformat_minor": 5
}
