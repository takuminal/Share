{
 "cells": [
  {
   "cell_type": "markdown",
   "id": "c024f83e-589a-4724-9566-cef40846f1f8",
   "metadata": {},
   "source": [
    "## ChemReacter\n",
    "\n",
    "ChemReacterは、化学データを基にエラスティックネットによる機械学習を行い、ベイズ最適化を使用してハイパーパラメータを調整するツールです。これにより、化学データに対するエラスティックネットモデルの最適なパフォーマンスを得ることができます。\r\n",
    "\r\n",
    "インストール\r\n",
    "このプロジェクトを実行するには、以下のライブラリが必要で\n",
    "pandas\n",
    "rdkit\n",
    "PySimpleGUI\n",
    "optuna\n",
    "これらのライブラリをインストールするためには、次のコマンドを実行してください。要に応じて追加の情報や注意事項を含めることもできます。\r\n",
    "\r\n",
    "\r\n",
    "\r\n",
    "\r\n",
    "\r\n"
   ]
  },
  {
   "cell_type": "markdown",
   "id": "ee89e4e6-1d7d-440c-8eb6-06d9268cd225",
   "metadata": {},
   "source": [
    "pip install pandas rdkit PySimpleGUI optuna"
   ]
  },
  {
   "cell_type": "markdown",
   "id": "d3ff6c98-4f39-4423-97dc-1ec04c38a1c7",
   "metadata": {},
   "source": [
    "### 使用方法\n",
    "#### データの準備\n",
    "\n",
    "複数分子の混合組成、合成処方などを用意してください。\n",
    "また、それら処方に対応する目的変数データを用意してください。\n",
    "\n",
    "#### データの計算と最適化\n",
    "\n",
    "main.py スクリプトを実行して、ChemReacterツールを起動します。\n",
    "ウィンドウ内で、サンプルの名前と値を入力します。\n",
    "化学データと官能基情報を選択し、適切なフィード量を設定します。\n",
    "\"Calculate\" ボタンをクリックして、データの計算とエラスティックネットの学習を行います。\n",
    "ベイズ最適化によって最適なハイパーパラメータを調整し、学習モデルを作成します。\n",
    "結果の保存と可視化\n",
    "\n",
    "計算結果は CSV/products.csv に保存されます。このファイルには、サンプル名、値、官能基情報などが含まれます。\n",
    "また、エラスティックネットの結果やベイズ最適化の試行履歴はグラフとして可視化されます。\n",
    "\n",
    "注意事項\n",
    "ハイパーパラメータの最適化には時間がかかることがあります。適切な試行回数を設定して、ベイズ最適化の収束を待ちましょう。\n",
    "\n",
    "データの準備と計算には事前に化学データが必要です。適切なデータを用意してからスクリプトを実行してください。\n",
    "\n",
    "\n",
    "\n",
    "\n",
    "\n",
    "\n"
   ]
  },
  {
   "cell_type": "code",
   "execution_count": null,
   "id": "727c7eb9-3697-4aa4-bf9c-7fdc1339fd33",
   "metadata": {},
   "outputs": [],
   "source": []
  }
 ],
 "metadata": {
  "kernelspec": {
   "display_name": "Python 3 (ipykernel)",
   "language": "python",
   "name": "python3"
  },
  "language_info": {
   "codemirror_mode": {
    "name": "ipython",
    "version": 3
   },
   "file_extension": ".py",
   "mimetype": "text/x-python",
   "name": "python",
   "nbconvert_exporter": "python",
   "pygments_lexer": "ipython3",
   "version": "3.8.10"
  }
 },
 "nbformat": 4,
 "nbformat_minor": 5
}
