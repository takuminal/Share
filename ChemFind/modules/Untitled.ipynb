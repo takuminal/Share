{
 "cells": [
  {
   "cell_type": "code",
   "execution_count": 1,
   "id": "d52b56ce-4772-457f-aae7-e317326e0789",
   "metadata": {},
   "outputs": [
    {
     "name": "stdout",
     "output_type": "stream",
     "text": [
      "Requirement already satisfied: pandas in c:\\users\\takumi\\onedrive\\ドキュメント\\github\\chemistry\\lib\\site-packages (2.0.3)\n",
      "Requirement already satisfied: rdkit in c:\\users\\takumi\\onedrive\\ドキュメント\\github\\chemistry\\lib\\site-packages (2023.3.2)\n",
      "Requirement already satisfied: PySimpleGUI in c:\\users\\takumi\\onedrive\\ドキュメント\\github\\chemistry\\lib\\site-packages (4.60.5)\n",
      "Requirement already satisfied: optuna in c:\\users\\takumi\\onedrive\\ドキュメント\\github\\chemistry\\lib\\site-packages (3.3.0)\n",
      "Requirement already satisfied: python-dateutil>=2.8.2 in c:\\users\\takumi\\onedrive\\ドキュメント\\github\\chemistry\\lib\\site-packages (from pandas) (2.8.2)\n",
      "Requirement already satisfied: pytz>=2020.1 in c:\\users\\takumi\\onedrive\\ドキュメント\\github\\chemistry\\lib\\site-packages (from pandas) (2023.3)\n",
      "Requirement already satisfied: tzdata>=2022.1 in c:\\users\\takumi\\onedrive\\ドキュメント\\github\\chemistry\\lib\\site-packages (from pandas) (2023.3)\n",
      "Requirement already satisfied: numpy>=1.20.3 in c:\\users\\takumi\\onedrive\\ドキュメント\\github\\chemistry\\lib\\site-packages (from pandas) (1.24.4)\n",
      "Requirement already satisfied: Pillow in c:\\users\\takumi\\onedrive\\ドキュメント\\github\\chemistry\\lib\\site-packages (from rdkit) (10.0.0)\n",
      "Requirement already satisfied: alembic>=1.5.0 in c:\\users\\takumi\\onedrive\\ドキュメント\\github\\chemistry\\lib\\site-packages (from optuna) (1.11.2)\n",
      "Requirement already satisfied: cmaes>=0.10.0 in c:\\users\\takumi\\onedrive\\ドキュメント\\github\\chemistry\\lib\\site-packages (from optuna) (0.10.0)\n",
      "Requirement already satisfied: colorlog in c:\\users\\takumi\\onedrive\\ドキュメント\\github\\chemistry\\lib\\site-packages (from optuna) (6.7.0)\n",
      "Requirement already satisfied: packaging>=20.0 in c:\\users\\takumi\\onedrive\\ドキュメント\\github\\chemistry\\lib\\site-packages (from optuna) (23.1)\n",
      "Requirement already satisfied: sqlalchemy>=1.3.0 in c:\\users\\takumi\\onedrive\\ドキュメント\\github\\chemistry\\lib\\site-packages (from optuna) (2.0.19)\n",
      "Requirement already satisfied: tqdm in c:\\users\\takumi\\onedrive\\ドキュメント\\github\\chemistry\\lib\\site-packages (from optuna) (4.66.1)\n",
      "Requirement already satisfied: PyYAML in c:\\users\\takumi\\onedrive\\ドキュメント\\github\\chemistry\\lib\\site-packages (from optuna) (6.0.1)\n",
      "Requirement already satisfied: Mako in c:\\users\\takumi\\onedrive\\ドキュメント\\github\\chemistry\\lib\\site-packages (from alembic>=1.5.0->optuna) (1.2.4)\n",
      "Requirement already satisfied: typing-extensions>=4 in c:\\users\\takumi\\onedrive\\ドキュメント\\github\\chemistry\\lib\\site-packages (from alembic>=1.5.0->optuna) (4.7.1)\n",
      "Requirement already satisfied: importlib-metadata in c:\\users\\takumi\\onedrive\\ドキュメント\\github\\chemistry\\lib\\site-packages (from alembic>=1.5.0->optuna) (6.8.0)\n",
      "Requirement already satisfied: importlib-resources in c:\\users\\takumi\\onedrive\\ドキュメント\\github\\chemistry\\lib\\site-packages (from alembic>=1.5.0->optuna) (6.0.0)\n",
      "Requirement already satisfied: six>=1.5 in c:\\users\\takumi\\onedrive\\ドキュメント\\github\\chemistry\\lib\\site-packages (from python-dateutil>=2.8.2->pandas) (1.16.0)\n",
      "Requirement already satisfied: greenlet!=0.4.17 in c:\\users\\takumi\\onedrive\\ドキュメント\\github\\chemistry\\lib\\site-packages (from sqlalchemy>=1.3.0->optuna) (2.0.2)\n",
      "Requirement already satisfied: colorama in c:\\users\\takumi\\onedrive\\ドキュメント\\github\\chemistry\\lib\\site-packages (from colorlog->optuna) (0.4.6)\n",
      "Requirement already satisfied: zipp>=0.5 in c:\\users\\takumi\\onedrive\\ドキュメント\\github\\chemistry\\lib\\site-packages (from importlib-metadata->alembic>=1.5.0->optuna) (3.16.2)\n",
      "Requirement already satisfied: MarkupSafe>=0.9.2 in c:\\users\\takumi\\onedrive\\ドキュメント\\github\\chemistry\\lib\\site-packages (from Mako->alembic>=1.5.0->optuna) (2.1.3)\n",
      "Note: you may need to restart the kernel to use updated packages.\n"
     ]
    }
   ],
   "source": [
    "pip install pandas rdkit PySimpleGUI optuna"
   ]
  },
  {
   "cell_type": "code",
   "execution_count": null,
   "id": "f72d9958-68ea-41b9-816f-ae57507c1544",
   "metadata": {},
   "outputs": [],
   "source": []
  }
 ],
 "metadata": {
  "kernelspec": {
   "display_name": "Python 3 (ipykernel)",
   "language": "python",
   "name": "python3"
  },
  "language_info": {
   "codemirror_mode": {
    "name": "ipython",
    "version": 3
   },
   "file_extension": ".py",
   "mimetype": "text/x-python",
   "name": "python",
   "nbconvert_exporter": "python",
   "pygments_lexer": "ipython3",
   "version": "3.8.10"
  }
 },
 "nbformat": 4,
 "nbformat_minor": 5
}
