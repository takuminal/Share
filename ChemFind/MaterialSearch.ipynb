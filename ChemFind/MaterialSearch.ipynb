{
 "cells": [
  {
   "cell_type": "markdown",
   "id": "6dcfb495-7b89-46bb-82e3-4fca41f35fac",
   "metadata": {
    "id": "6dcfb495-7b89-46bb-82e3-4fca41f35fac"
   },
   "source": [
    "ChemFind#Ver 1.1\n"
   ]
  },
  {
   "cell_type": "code",
   "execution_count": 4,
   "id": "c48638c8-e169-43c0-bf69-a943c3dcb913",
   "metadata": {
    "id": "c48638c8-e169-43c0-bf69-a943c3dcb913"
   },
   "outputs": [],
   "source": [
    "from modules import function as fc\n",
    "import PySimpleGUI as sg\n",
    "from rdkit import Chem\n",
    "import pubchempy as pcp\n",
    "import csv\n",
    "import pandas as pd\n",
    "\n",
    "sg.theme(\"DarkBrown\")\n",
    "\n",
    "\n",
    "#官能基カウントのモジュールを空で実行し、官能基リストを作成\n",
    "functional_names = fc.count_functional_groups().count.keys()\n",
    "\n",
    "#記述子名のリスト\n",
    "properties = [\"Tag\",\"ChemicalName\",\"SMILES\",\"MW (g/mol)\",\"logP\"]\n",
    "#官能基名のリスト\n",
    "functional_g = [f\"{name} (mmol/g)\" for name in functional_names]\n",
    "#CSV出力用の２Dリスト\n",
    "output_data = [properties+functional_g]\n",
    "\n",
    "\n",
    "#過去データの取得、またはデータテーブルの初期化\n",
    "try :\n",
    "    past_tag = pd.read_csv(\"CSV/output.csv\")[\"Tag\"].tolist()\n",
    "except:\n",
    "    with open(\"CSV/output.csv\", 'w',newline=\"\") as file:\n",
    "        writer = csv.writer(file)\n",
    "        writer.writerow(output_data[0])\n",
    "    past_tag = pd.read_csv(\"CSV/output.csv\")[\"Tag\"].tolist()\n",
    "\n",
    "\n",
    "#全体のレイアウト\n",
    "layout = [[sg.Text('ChemFind', font=('Constantia',20))],\n",
    "          [sg.Frame(\"Main\",[[sg.Text(\"Chemical Name or SMILES\"),\n",
    "                             sg.Input(size=(40, 1), key=\"-INPUT-\"),\n",
    "                             sg.Text(\"Tag\"),\n",
    "                             sg.Input(size=(10, 1),key = \"Tag\" )],\n",
    "                            [sg.Radio('CAS or NAME',default=True, key=\"-1-\", group_id='0'),\n",
    "                             sg.Radio('SMILES',default=False, key=\"-2-\", group_id='0')],\n",
    "                            [sg.Text(\"Reaction\")],\n",
    "                            [sg.Checkbox(\"VinylPolymerize\",key=\"polym\", default=False)],\n",
    "                            [sg.Checkbox(\"Acid Deprotonize\",key=\"Acid_DH\", default=False)],\n",
    "                            [sg.Checkbox(\"Amine Protonize\",key=\"Amine_H\", default=False)], \n",
    "                            [sg.Button(\"Run\",size=(10,1)),\n",
    "                             sg.Button(\"Log\",size=(10,1)),\n",
    "                             sg.Push(),\n",
    "                             sg.Button(\"Save\",size=(10,1))],\n",
    "                            [sg.Image(key=\"-IMAGE-\")],\n",
    "                            \n",
    "                            [sg.Push(),sg.Button(\"Clear All Data\",size=(15,1))],\n",
    "                            [sg.Text(\"\",size=(60, 1),key = \"NAME\")],\n",
    "                            [sg.Text(\"\",size=(60, 1),key = \"SMILES\")],\n",
    "                            [sg.Text(\"\",size=(60, 1),key = \"MW\")],\n",
    "                            [sg.Text(\"\",size=(60, 1),key = \"LogP\")]]), \n",
    "           #MainFrameの終了 / 出力テーブルの開始\n",
    "           sg.Column(layout =[[sg.Text(\"\",size=(20,1),key=name),\n",
    "                              sg.Text(\"\", key=f\"{name}_\")] for name in functional_names]),\n",
    "           sg.Table(headings =[\"Tag Name\"],values = [[elem] for elem in past_tag],\n",
    "                    key =\"output_table\",\n",
    "                    size=(10,30))\n",
    "           ]]\n",
    "\n",
    "\n",
    "# ウインドウの出現位置を指定\n",
    "win_location = (0, 0)\n",
    "window = sg.Window(\"ChemFind\", layout,resizable=True,location=win_location)\n",
    "\n",
    "\n",
    "while True:\n",
    "    event, values = window.read()\n",
    "    if event == sg.WINDOW_CLOSED or event == \"Cancel\":\n",
    "        break\n",
    "    if event == \"Run\":\n",
    "        try:\n",
    "                \n",
    "            if values['-1-'] == True:\n",
    "    \n",
    "                input_val = values[\"-INPUT-\"]\n",
    "                results = pcp.get_compounds(input_val, 'name')\n",
    "                compound = results[0]\n",
    "                smiles = compound.canonical_smiles\n",
    "                      \n",
    "    \n",
    "            elif values['-2-'] == True:\n",
    "                \n",
    "                input_val = values[\"-INPUT-\"]\n",
    "                iupac_name = \"-\" \n",
    "                smiles = input_val\n",
    "    \n",
    "            #化学反応\n",
    "            \n",
    "            if values[\"polym\"] == True:\n",
    "                smiles = fc.polym(smiles)\n",
    "    \n",
    "            if values[\"Acid_DH\"] == True:\n",
    "                smiles = fc.acid_takeHs(smiles)\n",
    "    \n",
    "            if values[\"Amine_H\"] == True:\n",
    "                smiles = fc.amine_addHs(smiles)                \n",
    "    \n",
    "    \n",
    "                      \n",
    "            #smilesから官能基個数のカウントモジュール実行\n",
    "            fg = fc.count_functional_groups(smiles)\n",
    "    \n",
    "            # 画像をウィンドウ内のsg.Imageコンポーネントに更新\n",
    "            window[\"-IMAGE-\"].update(\"images/mol_structure.png\")\n",
    "            window[\"MW\"].update(f\"MW : {fg.mw} g/mol\")\n",
    "            window[\"LogP\"].update(f\"LogP : {fg.logP}\")\n",
    "            window[\"SMILES\"].update(f\"SMILES : {smiles}\")\n",
    "    \n",
    "            for name in functional_names:\n",
    "                window[name].update(f\"{name} : {fg.count[name]}count\")\n",
    "                window[f\"{name}_\"].update(f\"{round(1000*fg.count[name]/fg.mw,2)}mmol/g\")\n",
    "                \n",
    "        except:\n",
    "            print(\"something wrong!\")\n",
    "\n",
    "    #output.csvの中身のTagリストを取得\n",
    "\n",
    "    if event == \"Log\":\n",
    "        #追加データ行の作製\n",
    "        tag = values[\"Tag\"]\n",
    "        chemical_name = values[\"-INPUT-\"]\n",
    "        new_row = [tag,chemical_name,smiles,fg.mw,fg.logP]+[1000*fg.count[name]/fg.mw for name in functional_names]\n",
    "        #過去のTag名重複チェッカ－\n",
    "        past_tag2 = past_tag + [row[0] for row in output_data][1:]\n",
    "        if tag in past_tag2:\n",
    "            sg.popup(\"AlreadyExist\",auto_close=True,auto_close_duration=1)\n",
    "        else:\n",
    "            output_data.append(new_row)\n",
    "            #過去Tagデータの更新\n",
    "            past_tag2 = past_tag + [f\"** {row[0]}\" for row in output_data][1:]\n",
    "            #Windowテーブルの更新\n",
    "            window[\"output_table\"].update([[elem] for elem in past_tag2])\n",
    "            \n",
    "    if event == \"Save\":                  \n",
    "        with open(\"CSV/output.csv\", mode=\"a\", newline=\"\") as file:\n",
    "            writer = csv.writer(file)\n",
    "            for row in output_data[1:]:\n",
    "                writer.writerow(row)\n",
    "        window.close()\n",
    "\n",
    "    if event == \"Clear All Data\":\n",
    "        output_data = [properties+functional_g]\n",
    "        with open(\"CSV/output.csv\", 'w',newline=\"\") as file:\n",
    "            writer = csv.writer(file)\n",
    "            writer.writerow(output_data[0])\n",
    "        past_tag = pd.read_csv(\"CSV/output.csv\")[\"Tag\"].tolist()\n",
    "        past_tag2 = past_tag + [row[0] for row in output_data][1:]\n",
    "        window[\"output_table\"].update([[elem] for elem in past_tag2])\n",
    "\n",
    "\n",
    "window.close()"
   ]
  },
  {
   "cell_type": "markdown",
   "id": "2f1a13fb-d1c7-4721-9fac-a2c4f9892a27",
   "metadata": {
    "id": "2f1a13fb-d1c7-4721-9fac-a2c4f9892a27"
   },
   "source": [
    "\n",
    "fg = fc.count_functional_groups(smiles)"
   ]
  },
  {
   "cell_type": "markdown",
   "id": "f3a28ea5-ee2a-4373-bfcc-c96f1fd1ee0e",
   "metadata": {
    "id": "f3a28ea5-ee2a-4373-bfcc-c96f1fd1ee0e"
   },
   "source": [
    "Installser.py"
   ]
  },
  {
   "cell_type": "code",
   "execution_count": 4,
   "id": "a30b9391-476e-4c4c-83d1-50db40f1f9ba",
   "metadata": {
    "id": "a30b9391-476e-4c4c-83d1-50db40f1f9ba"
   },
   "outputs": [
    {
     "name": "stdout",
     "output_type": "stream",
     "text": [
      "pubchempy finished\n",
      "PySimpleGUI finished\n",
      "rdkit finished\n",
      "py3Dmol finished\n",
      "■■        ■■        ■\n",
      " ■   ■■   ■         ■\n",
      " ■   ■■   ■   ■■■   ■    ■■■■  ■■■■   ■■■■■■■■    ■■■\n",
      " ■   ■■   ■  ■■  ■  ■   ■■    ■■  ■   ■   ■   ■  ■■  ■\n",
      " ■■ ■■ ■  ■  ■   ■■ ■   ■     ■    ■  ■   ■   ■  ■   ■■\n",
      " ■■ ■  ■ ■■  ■■■■■■ ■   ■     ■    ■  ■   ■   ■  ■■■■■■\n",
      "  ■ ■  ■ ■   ■      ■   ■     ■    ■  ■   ■   ■  ■     \n",
      "  ■■    ■■   ■■     ■   ■■    ■■  ■   ■   ■   ■  ■■    \n",
      "  ■■    ■■    ■■■■   ■   ■■■■  ■■■■   ■   ■   ■   ■■■■ \n"
     ]
    }
   ],
   "source": [
    "import subprocess\n",
    "\n",
    "# パッケージのリストを指定してpip installを実行する\n",
    "package_list = ['pubchempy', 'PySimpleGUI', 'rdkit','py3Dmol']\n",
    "subprocess.run(['pip', 'install'] + package_list)\n",
    "\n",
    "import pkg_resources\n",
    "\n",
    "def is_package_installed(package_name):\n",
    "    try:\n",
    "        pkg_resources.get_distribution(package_name)\n",
    "        return True\n",
    "    except pkg_resources.DistributionNotFound:\n",
    "        return False\n",
    "\n",
    "# パッケージ名を指定して確認する\n",
    "checker = True\n",
    "\n",
    "for package_name in  package_list:\n",
    "\n",
    "    if is_package_installed(package_name):\n",
    "        print(f\"{package_name} finished\")\n",
    "        checker = checker*True\n",
    "    else:\n",
    "        print(f\"{package_name} error\")\n",
    "        checker = checker*False\n",
    "\n",
    "if checker ==True:\n",
    "    print(\"■■        ■■        ■\")\n",
    "    print(\" ■   ■■   ■         ■\")\n",
    "    print(\" ■   ■■   ■   ■■■   ■    ■■■■  ■■■■   ■■■■■■■■    ■■■\")\n",
    "    print(\" ■   ■■   ■  ■■  ■  ■   ■■    ■■  ■   ■   ■   ■  ■■  ■\")\n",
    "    print(\" ■■ ■■ ■  ■  ■   ■■ ■   ■     ■    ■  ■   ■   ■  ■   ■■\")\n",
    "    print(\" ■■ ■  ■ ■■  ■■■■■■ ■   ■     ■    ■  ■   ■   ■  ■■■■■■\")\n",
    "    print(\"  ■ ■  ■ ■   ■      ■   ■     ■    ■  ■   ■   ■  ■     \")\n",
    "    print(\"  ■■    ■■   ■■     ■   ■■    ■■  ■   ■   ■   ■  ■■    \")\n",
    "    print(\"  ■■    ■■    ■■■■   ■   ■■■■  ■■■■   ■   ■   ■   ■■■■ \")\n",
    "import time\n",
    "# 5秒間待機\n",
    "time.sleep(10)"
   ]
  },
  {
   "cell_type": "markdown",
   "id": "c561c3fa-6f9e-4584-92f2-4cbdf952c654",
   "metadata": {},
   "source": [
    "Reaction\n"
   ]
  },
  {
   "cell_type": "code",
   "execution_count": 31,
   "id": "50b8a1ac-71d8-4623-a0a7-197e4b9cd2e7",
   "metadata": {},
   "outputs": [],
   "source": [
    "from rdkit import Chem\n",
    "from rdkit.Chem import rdChemReactions\n",
    "from rdkit.Chem import AllChem\n",
    "\n",
    "#esterificattion of ethanol and acetic acid\n",
    "reactant1 = \"CCO\"\n",
    "reactant2 = \"CCC(=O)O\"\n",
    "\n",
    "\n",
    "rxn = AllChem.ReactionFromSmarts('[C:1](=[O:2])O.[O:3][C:4]>>[C:1](=[O:2])[O:3][C:4]')\n",
    "reacts1 = (Chem.MolFromSmiles(reactant1),Chem.MolFromSmiles(reactant2))\n",
    "reacts2 = (Chem.MolFromSmiles(reactant2),Chem.MolFromSmiles(reactant1))\n",
    "\n",
    "products = rxn.RunReactants(reacts1)+rxn.RunReactants(reacts2)"
   ]
  },
  {
   "cell_type": "code",
   "execution_count": 32,
   "id": "0e1f03f8-cac3-490e-938f-e41353eb2a79",
   "metadata": {},
   "outputs": [
    {
     "data": {
      "text/plain": [
       "((<rdkit.Chem.rdchem.Mol at 0x1a9ec002040>,),)"
      ]
     },
     "execution_count": 32,
     "metadata": {},
     "output_type": "execute_result"
    }
   ],
   "source": [
    "products"
   ]
  },
  {
   "cell_type": "code",
   "execution_count": 22,
   "id": "8c6a6e08-8f69-4dcb-8932-a6457224adc4",
   "metadata": {},
   "outputs": [
    {
     "data": {
      "text/plain": [
       "'CCOC(=O)CC'"
      ]
     },
     "execution_count": 22,
     "metadata": {},
     "output_type": "execute_result"
    }
   ],
   "source": [
    "Chem.MolToSmiles(products[0][0])"
   ]
  },
  {
   "cell_type": "code",
   "execution_count": 43,
   "id": "b25d7b27-ad59-4041-90ab-e0f7e4876927",
   "metadata": {},
   "outputs": [],
   "source": [
    "def reaction_ester(acid,alcohol):\n",
    "    rxn = AllChem.ReactionFromSmarts('[C:1](=[O:2])O.[O:3][C:4]>>[C:1](=[O:2])[O:3][C:4]')\n",
    "    reacts = (Chem.MolFromSmiles(acid),Chem.MolFromSmiles(alcohol))\n",
    "    products = rxn.RunReactants(reacts)\n",
    "    return Chem.MolToSmiles(products[0][0])"
   ]
  },
  {
   "cell_type": "code",
   "execution_count": 49,
   "id": "d74eb045-1edd-4857-98d6-576bca328d6e",
   "metadata": {},
   "outputs": [
    {
     "data": {
      "image/png": "[encoded data removed]",
      "text/plain": [
       "<rdkit.Chem.rdChemReactions.ChemicalReaction at 0x1a9ec417ac0>"
      ]
     },
     "execution_count": 49,
     "metadata": {},
     "output_type": "execute_result"
    }
   ],
   "source": [
    "#esterificattion of ethanol and acetic acid\n",
    "alcohol = \"CCCCCO\"\n",
    "acid = \"CCCCCC(=O)O\"\n",
    "product = reaction_ester(acid,alcohol)\n",
    "AllChem.ReactionFromSmarts(f\"{acid}.{alcohol}>>{product}\")"
   ]
  },
  {
   "cell_type": "code",
   "execution_count": 72,
   "id": "4ea060ad-6f06-41d4-9c1b-bb009df483d7",
   "metadata": {},
   "outputs": [],
   "source": [
    "def Nt_amine_acid(acid,amine):\n",
    "    rxn = AllChem.ReactionFromSmarts('[C:1](=[O:2])[O:3].[N:4]>>[C:1](=[O:2])[O-:3].[N+:4]')\n",
    "    reacts = (Chem.MolFromSmiles(acid),Chem.MolFromSmiles(amine))\n",
    "    products = rxn.RunReactants(reacts)\n",
    "    return [Chem.MolToSmiles(x) for x in products[0]]"
   ]
  },
  {
   "cell_type": "code",
   "execution_count": 79,
   "id": "1036a3ab-a9e3-4e6d-92f3-d50a0e5d2ef6",
   "metadata": {},
   "outputs": [],
   "source": [
    "#esterificattion of ethanol and acetic acid\n",
    "amine = \"CCCCCN(C)C\"\n",
    "acid = \"CCCCCC(=O)O\"\n",
    "product = Nt_amine_acid(acid,amine)"
   ]
  },
  {
   "cell_type": "code",
   "execution_count": 80,
   "id": "dc93a416-8590-405b-95ca-d7367d08309c",
   "metadata": {},
   "outputs": [
    {
     "data": {
      "text/plain": [
       "['CCCCCC(=O)[O-]', 'CCCCC[NH+](C)C']"
      ]
     },
     "execution_count": 80,
     "metadata": {},
     "output_type": "execute_result"
    }
   ],
   "source": [
    "product"
   ]
  },
  {
   "cell_type": "code",
   "execution_count": null,
   "id": "44341d28-580d-4bd2-a579-f6baa6df35f8",
   "metadata": {},
   "outputs": [],
   "source": []
  }
 ],
 "metadata": {
  "colab": {
   "provenance": []
  },
  "kernelspec": {
   "display_name": "Python 3 (ipykernel)",
   "language": "python",
   "name": "python3"
  },
  "language_info": {
   "codemirror_mode": {
    "name": "ipython",
    "version": 3
   },
   "file_extension": ".py",
   "mimetype": "text/x-python",
   "name": "python",
   "nbconvert_exporter": "python",
   "pygments_lexer": "ipython3",
   "version": "3.8.10"
  }
 },
 "nbformat": 4,
 "nbformat_minor": 5
}
